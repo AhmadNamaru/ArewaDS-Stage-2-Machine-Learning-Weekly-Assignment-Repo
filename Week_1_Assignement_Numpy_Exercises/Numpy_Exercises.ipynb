{
  "cells": [
    {
      "cell_type": "markdown",
      "id": "da256c4c",
      "metadata": {
        "id": "da256c4c"
      },
      "source": [
        "1. Import the numpy package under the name np"
      ]
    },
    {
      "cell_type": "code",
      "execution_count": null,
      "id": "19246dfa",
      "metadata": {
        "id": "19246dfa"
      },
      "outputs": [],
      "source": [
        "import numpy as np"
      ]
    },
    {
      "cell_type": "markdown",
      "id": "ad22a599",
      "metadata": {
        "id": "ad22a599"
      },
      "source": [
        "2. Print the numpy version and the configuration"
      ]
    },
    {
      "cell_type": "code",
      "execution_count": null,
      "id": "79394b35",
      "metadata": {
        "id": "79394b35"
      },
      "outputs": [],
      "source": [
        "print(np.__version__)\n",
        "print(np.show_config())"
      ]
    },
    {
      "cell_type": "markdown",
      "id": "0b99cf86",
      "metadata": {
        "id": "0b99cf86"
      },
      "source": [
        "3. Create a null vector of size 10"
      ]
    },
    {
      "cell_type": "code",
      "execution_count": null,
      "id": "dc95f26e",
      "metadata": {
        "id": "dc95f26e"
      },
      "outputs": [],
      "source": [
        "null_vector = np.zeros(10)\n",
        "print(null_vector)"
      ]
    },
    {
      "cell_type": "markdown",
      "id": "07998909",
      "metadata": {
        "id": "07998909"
      },
      "source": [
        "4. How to find the memory size of any array"
      ]
    },
    {
      "cell_type": "code",
      "execution_count": null,
      "id": "64459c49",
      "metadata": {
        "id": "64459c49"
      },
      "outputs": [],
      "source": [
        "print(null_vector.nbytes)"
      ]
    },
    {
      "cell_type": "markdown",
      "id": "23a792da",
      "metadata": {
        "id": "23a792da"
      },
      "source": [
        "5. How to get the documentation of the numpy add function from the command line?"
      ]
    },
    {
      "cell_type": "code",
      "execution_count": null,
      "id": "c263898f",
      "metadata": {
        "vscode": {
          "languageId": "markdown"
        },
        "id": "c263898f"
      },
      "outputs": [],
      "source": [
        "help(np.add)\n",
        "\n",
        "# Or you can use:\n",
        "np.info(np.add)"
      ]
    },
    {
      "cell_type": "markdown",
      "id": "6beb77e0",
      "metadata": {
        "id": "6beb77e0"
      },
      "source": [
        "6. Create a null vector of size 10 but the fifth value which is 1"
      ]
    },
    {
      "cell_type": "code",
      "execution_count": null,
      "id": "066293f0",
      "metadata": {
        "vscode": {
          "languageId": "markdown"
        },
        "id": "066293f0"
      },
      "outputs": [],
      "source": [
        "null_vector1 = np.zeros(10)\n",
        "null_vector1[4] = 1\n",
        "print(null_vector1)"
      ]
    },
    {
      "cell_type": "markdown",
      "id": "38737c07",
      "metadata": {
        "id": "38737c07"
      },
      "source": [
        "7. Create a vector with values ranging from 10 to 49"
      ]
    },
    {
      "cell_type": "code",
      "execution_count": null,
      "id": "6fc56380",
      "metadata": {
        "vscode": {
          "languageId": "markdown"
        },
        "id": "6fc56380"
      },
      "outputs": [],
      "source": [
        "num_vec = np.arange(10,49)\n",
        "print(num_vec)"
      ]
    },
    {
      "cell_type": "markdown",
      "id": "799e88d4",
      "metadata": {
        "id": "799e88d4"
      },
      "source": [
        "8. Reverse a vector (first element becomes last)"
      ]
    },
    {
      "cell_type": "code",
      "execution_count": null,
      "id": "73b53659",
      "metadata": {
        "vscode": {
          "languageId": "markdown"
        },
        "id": "73b53659"
      },
      "outputs": [],
      "source": [
        "reversed_vec = num_vec[::-1]\n",
        "print(reversed_vec)"
      ]
    },
    {
      "cell_type": "markdown",
      "id": "b7592586",
      "metadata": {
        "id": "b7592586"
      },
      "source": [
        "9. Create a 3x3 matrix with values ranging from 0 to 8"
      ]
    },
    {
      "cell_type": "code",
      "execution_count": null,
      "id": "f8051c9c",
      "metadata": {
        "vscode": {
          "languageId": "markdown"
        },
        "id": "f8051c9c"
      },
      "outputs": [],
      "source": [
        "np.arange(9).reshape(3, 3)"
      ]
    },
    {
      "cell_type": "markdown",
      "id": "57aee8ac",
      "metadata": {
        "id": "57aee8ac"
      },
      "source": [
        "10. Find indices of non-zero elements from [1,2,0,0,4,0]"
      ]
    },
    {
      "cell_type": "code",
      "execution_count": null,
      "id": "72239583",
      "metadata": {
        "id": "72239583"
      },
      "outputs": [],
      "source": [
        "arr = np.array([1, 2, 0, 0, 4, 0])\n",
        "indices = np.nonzero(arr)\n",
        "print(indices)"
      ]
    },
    {
      "cell_type": "markdown",
      "id": "2d8fd3bb",
      "metadata": {
        "id": "2d8fd3bb"
      },
      "source": [
        "11. Create a 3x3 identity matrix"
      ]
    },
    {
      "cell_type": "code",
      "execution_count": null,
      "id": "8c717fe7",
      "metadata": {
        "id": "8c717fe7"
      },
      "outputs": [],
      "source": [
        "identity_matrix = np.eye(3)\n",
        "print(identity_matrix)"
      ]
    },
    {
      "cell_type": "markdown",
      "id": "790cf9fb",
      "metadata": {
        "id": "790cf9fb"
      },
      "source": [
        "12. Create a 3x3x3 array with random values"
      ]
    },
    {
      "cell_type": "code",
      "execution_count": null,
      "id": "4da71e14",
      "metadata": {
        "id": "4da71e14"
      },
      "outputs": [],
      "source": [
        "np.random.rand(3,3,3)"
      ]
    },
    {
      "cell_type": "markdown",
      "id": "3a4fde52",
      "metadata": {
        "id": "3a4fde52"
      },
      "source": [
        "13. Create a 10x10 array with random values and find the minimum and maximum values"
      ]
    },
    {
      "cell_type": "code",
      "execution_count": null,
      "id": "d7f4964b",
      "metadata": {
        "id": "d7f4964b"
      },
      "outputs": [],
      "source": [
        "rand = np.random.rand(10,10)\n",
        "print(rand)\n",
        "print(\"The Minimum is: \", rand.min())\n",
        "print(\"The Maximum is: \", rand.max())"
      ]
    },
    {
      "cell_type": "markdown",
      "id": "8d36e18f",
      "metadata": {
        "id": "8d36e18f"
      },
      "source": [
        "14. Create a random vector of size 30 and find the mean value"
      ]
    },
    {
      "cell_type": "code",
      "execution_count": null,
      "id": "48ce9802",
      "metadata": {
        "id": "48ce9802"
      },
      "outputs": [],
      "source": [
        "print(np.random.rand(30))\n",
        "np.random.rand(30).mean()"
      ]
    },
    {
      "cell_type": "markdown",
      "id": "7de32b3e",
      "metadata": {
        "id": "7de32b3e"
      },
      "source": [
        "15. Create a 2d array with 1 on the border and 0 inside"
      ]
    },
    {
      "cell_type": "code",
      "execution_count": null,
      "id": "07e8e2c2",
      "metadata": {
        "id": "07e8e2c2"
      },
      "outputs": [],
      "source": [
        "border_array = np.ones((5, 5), dtype=int)\n",
        "border_array[1:-1, 1:-1] = 0\n",
        "print(border_array)"
      ]
    },
    {
      "cell_type": "markdown",
      "id": "fb1b0319",
      "metadata": {
        "id": "fb1b0319"
      },
      "source": [
        "16. How to add a border (filled with 0's) around an existing array?"
      ]
    },
    {
      "cell_type": "code",
      "execution_count": null,
      "id": "840ca4a6",
      "metadata": {
        "id": "840ca4a6"
      },
      "outputs": [],
      "source": [
        "padded_array = np.pad(arr, pad_width=1, mode='constant', constant_values=0)\n",
        "print(padded_array)"
      ]
    },
    {
      "cell_type": "markdown",
      "id": "13efdb2b",
      "metadata": {
        "id": "13efdb2b"
      },
      "source": [
        "17. What is the result of the following expression?\n",
        "\n",
        "0 * np.nan<br>\n",
        "np.nan == np.nan<br>\n",
        "np.inf > np.nan<br>\n",
        "np.nan - np.nan<br>\n",
        "np.nan in set([np.nan])<br>\n",
        "0.3 == 3 * 0.1"
      ]
    },
    {
      "cell_type": "code",
      "execution_count": null,
      "id": "94423d4d",
      "metadata": {
        "id": "94423d4d"
      },
      "outputs": [],
      "source": [
        "print(0 * np.nan)\n",
        "print(np.nan == np.nan)\n",
        "print(np.inf > np.nan)\n",
        "print(np.nan - np.nan)\n",
        "print(np.nan in set([np.nan]))\n",
        "print(0.3 == 3 * 0.1)"
      ]
    },
    {
      "cell_type": "markdown",
      "id": "82af9057",
      "metadata": {
        "id": "82af9057"
      },
      "source": [
        "18. Create a 5x5 matrix with values 1,2,3,4 just below the diagonal"
      ]
    },
    {
      "cell_type": "code",
      "execution_count": null,
      "id": "13da6d5b",
      "metadata": {
        "id": "13da6d5b"
      },
      "outputs": [],
      "source": [
        "matrix = np.diag([1, 2, 3, 4], k=-1)\n",
        "print(matrix)"
      ]
    },
    {
      "cell_type": "markdown",
      "id": "5b0ef093",
      "metadata": {
        "id": "5b0ef093"
      },
      "source": [
        "19. Create a 8x8 matrix and fill it with a checkerboard pattern"
      ]
    },
    {
      "cell_type": "code",
      "execution_count": null,
      "id": "cda07578",
      "metadata": {
        "id": "cda07578"
      },
      "outputs": [],
      "source": [
        "checkerboard = np.zeros((8, 8), dtype=int)\n",
        "checkerboard[1::2, ::2] = 1\n",
        "checkerboard[::2, 1::2] = 1\n",
        "print(checkerboard)"
      ]
    },
    {
      "cell_type": "markdown",
      "id": "7c21ed62",
      "metadata": {
        "id": "7c21ed62"
      },
      "source": [
        "20. Consider a (6,7,8) shape array, what is the index (x,y,z) of the 100th element?"
      ]
    },
    {
      "cell_type": "code",
      "execution_count": null,
      "id": "99667568",
      "metadata": {
        "id": "99667568"
      },
      "outputs": [],
      "source": [
        "np.unravel_index(100, (6, 7, 8))"
      ]
    },
    {
      "cell_type": "markdown",
      "id": "c525af2e",
      "metadata": {
        "id": "c525af2e"
      },
      "source": [
        "21. Create a checkerboard 8x8 matrix using the tile function"
      ]
    },
    {
      "cell_type": "code",
      "execution_count": null,
      "id": "af768b6d",
      "metadata": {
        "id": "af768b6d"
      },
      "outputs": [],
      "source": [
        "checkerboard_tile = np.tile([[0, 1], [1, 0]], (4, 4))\n",
        "print(checkerboard_tile)"
      ]
    },
    {
      "cell_type": "markdown",
      "source": [
        "22. Normalize a 5x5 random matrix"
      ],
      "metadata": {
        "id": "LZs4xHMetM-h"
      },
      "id": "LZs4xHMetM-h"
    },
    {
      "cell_type": "code",
      "source": [
        "rand_matrix = np.random.rand(5, 5)\n",
        "normalized_matrix = (rand_matrix - rand_matrix.min()) / (rand_matrix.max() - rand_matrix.min())\n",
        "print(normalized_matrix)"
      ],
      "metadata": {
        "id": "Z1T1pMvUtYNh"
      },
      "id": "Z1T1pMvUtYNh",
      "execution_count": null,
      "outputs": []
    },
    {
      "cell_type": "markdown",
      "source": [
        "23. Create a custom dtype that describes a color as four unsigned bytes (RGBA)"
      ],
      "metadata": {
        "id": "WnGjMvNHtnnP"
      },
      "id": "WnGjMvNHtnnP"
    },
    {
      "cell_type": "code",
      "source": [
        "rgba_dtype = np.dtype([('red', np.uint8), ('green', np.uint8), ('blue', np.uint8), ('alpha', np.uint8)])\n",
        "print(rgba_dtype)"
      ],
      "metadata": {
        "id": "Vd-jDtEqtwia"
      },
      "id": "Vd-jDtEqtwia",
      "execution_count": null,
      "outputs": []
    },
    {
      "cell_type": "markdown",
      "source": [
        "24. Multiply a 5x3 matrix by a 3x2 matrix (real matrix product)"
      ],
      "metadata": {
        "id": "Abmp0PMzuRde"
      },
      "id": "Abmp0PMzuRde"
    },
    {
      "cell_type": "code",
      "source": [
        "matrix1 = np.random.rand(5, 3)\n",
        "matrix2 = np.random.rand(3, 2)\n",
        "product_matrix = np.dot(matrix1, matrix2)\n",
        "# Alternatively, you can use the @ operator for matrix multiplication:\n",
        "product_matrix = matrix1 @ matrix2\n",
        "print(product_matrix)"
      ],
      "metadata": {
        "id": "ttV0ExvL2y7Z"
      },
      "id": "ttV0ExvL2y7Z",
      "execution_count": null,
      "outputs": []
    },
    {
      "cell_type": "markdown",
      "source": [
        "24. Given a 1D array, negate all elements which are between 3 and 8, in place"
      ],
      "metadata": {
        "id": "NPwARjBw3wju"
      },
      "id": "NPwARjBw3wju"
    },
    {
      "cell_type": "code",
      "source": [
        "arr = np.arange(10)\n",
        "arr[(arr > 3) & (arr < 8)] *= -1\n",
        "print(arr)"
      ],
      "metadata": {
        "id": "Cn0bdJ4S39gj"
      },
      "id": "Cn0bdJ4S39gj",
      "execution_count": null,
      "outputs": []
    }
  ],
  "metadata": {
    "kernelspec": {
      "display_name": "base",
      "language": "python",
      "name": "python3"
    },
    "language_info": {
      "codemirror_mode": {
        "name": "ipython",
        "version": 3
      },
      "file_extension": ".py",
      "mimetype": "text/x-python",
      "name": "python",
      "nbconvert_exporter": "python",
      "pygments_lexer": "ipython3",
      "version": "3.12.7"
    },
    "colab": {
      "provenance": []
    }
  },
  "nbformat": 4,
  "nbformat_minor": 5
}
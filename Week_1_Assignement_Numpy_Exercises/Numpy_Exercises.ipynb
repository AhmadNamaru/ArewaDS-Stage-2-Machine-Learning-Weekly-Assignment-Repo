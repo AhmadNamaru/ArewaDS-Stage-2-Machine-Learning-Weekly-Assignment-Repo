{
  "cells": [
    {
      "cell_type": "markdown",
      "id": "da256c4c",
      "metadata": {
        "id": "da256c4c"
      },
      "source": [
        "1. Import the numpy package under the name np"
      ]
    },
    {
      "cell_type": "code",
      "execution_count": 115,
      "id": "19246dfa",
      "metadata": {
        "id": "19246dfa"
      },
      "outputs": [],
      "source": [
        "import numpy as np"
      ]
    },
    {
      "cell_type": "markdown",
      "id": "ad22a599",
      "metadata": {
        "id": "ad22a599"
      },
      "source": [
        "2. Print the numpy version and the configuration"
      ]
    },
    {
      "cell_type": "code",
      "execution_count": 116,
      "id": "79394b35",
      "metadata": {
        "colab": {
          "base_uri": "https://localhost:8080/"
        },
        "id": "79394b35",
        "outputId": "f607e24d-63a9-453a-fe9c-683fb7753c6d"
      },
      "outputs": [
        {
          "output_type": "stream",
          "name": "stdout",
          "text": [
            "2.0.2\n",
            "Build Dependencies:\n",
            "  blas:\n",
            "    detection method: pkgconfig\n",
            "    found: true\n",
            "    include directory: /opt/_internal/cpython-3.11.8/lib/python3.11/site-packages/scipy_openblas64/include\n",
            "    lib directory: /opt/_internal/cpython-3.11.8/lib/python3.11/site-packages/scipy_openblas64/lib\n",
            "    name: scipy-openblas\n",
            "    openblas configuration: OpenBLAS 0.3.27  USE64BITINT DYNAMIC_ARCH NO_AFFINITY\n",
            "      Zen MAX_THREADS=64\n",
            "    pc file directory: /project/.openblas\n",
            "    version: 0.3.27\n",
            "  lapack:\n",
            "    detection method: pkgconfig\n",
            "    found: true\n",
            "    include directory: /opt/_internal/cpython-3.11.8/lib/python3.11/site-packages/scipy_openblas64/include\n",
            "    lib directory: /opt/_internal/cpython-3.11.8/lib/python3.11/site-packages/scipy_openblas64/lib\n",
            "    name: scipy-openblas\n",
            "    openblas configuration: OpenBLAS 0.3.27  USE64BITINT DYNAMIC_ARCH NO_AFFINITY\n",
            "      Zen MAX_THREADS=64\n",
            "    pc file directory: /project/.openblas\n",
            "    version: 0.3.27\n",
            "Compilers:\n",
            "  c:\n",
            "    commands: cc\n",
            "    linker: ld.bfd\n",
            "    name: gcc\n",
            "    version: 10.2.1\n",
            "  c++:\n",
            "    commands: c++\n",
            "    linker: ld.bfd\n",
            "    name: gcc\n",
            "    version: 10.2.1\n",
            "  cython:\n",
            "    commands: cython\n",
            "    linker: cython\n",
            "    name: cython\n",
            "    version: 3.0.11\n",
            "Machine Information:\n",
            "  build:\n",
            "    cpu: x86_64\n",
            "    endian: little\n",
            "    family: x86_64\n",
            "    system: linux\n",
            "  host:\n",
            "    cpu: x86_64\n",
            "    endian: little\n",
            "    family: x86_64\n",
            "    system: linux\n",
            "Python Information:\n",
            "  path: /tmp/build-env-zm_4loqi/bin/python\n",
            "  version: '3.11'\n",
            "SIMD Extensions:\n",
            "  baseline:\n",
            "  - SSE\n",
            "  - SSE2\n",
            "  - SSE3\n",
            "  found:\n",
            "  - SSSE3\n",
            "  - SSE41\n",
            "  - POPCNT\n",
            "  - SSE42\n",
            "  - AVX\n",
            "  - F16C\n",
            "  - FMA3\n",
            "  - AVX2\n",
            "  not found:\n",
            "  - AVX512F\n",
            "  - AVX512CD\n",
            "  - AVX512_KNL\n",
            "  - AVX512_KNM\n",
            "  - AVX512_SKX\n",
            "  - AVX512_CLX\n",
            "  - AVX512_CNL\n",
            "  - AVX512_ICL\n",
            "\n",
            "None\n"
          ]
        }
      ],
      "source": [
        "print(np.__version__)\n",
        "print(np.show_config())"
      ]
    },
    {
      "cell_type": "markdown",
      "id": "0b99cf86",
      "metadata": {
        "id": "0b99cf86"
      },
      "source": [
        "3. Create a null vector of size 10"
      ]
    },
    {
      "cell_type": "code",
      "execution_count": 117,
      "id": "dc95f26e",
      "metadata": {
        "colab": {
          "base_uri": "https://localhost:8080/"
        },
        "id": "dc95f26e",
        "outputId": "54361190-6956-45fa-babd-94013f585900"
      },
      "outputs": [
        {
          "output_type": "stream",
          "name": "stdout",
          "text": [
            "[0. 0. 0. 0. 0. 0. 0. 0. 0. 0.]\n"
          ]
        }
      ],
      "source": [
        "null_vector = np.zeros(10)\n",
        "print(null_vector)"
      ]
    },
    {
      "cell_type": "markdown",
      "id": "07998909",
      "metadata": {
        "id": "07998909"
      },
      "source": [
        "4. How to find the memory size of any array"
      ]
    },
    {
      "cell_type": "code",
      "execution_count": 118,
      "id": "64459c49",
      "metadata": {
        "colab": {
          "base_uri": "https://localhost:8080/"
        },
        "id": "64459c49",
        "outputId": "a256fa66-a991-4b08-b9bc-9fbfd6256dbd"
      },
      "outputs": [
        {
          "output_type": "stream",
          "name": "stdout",
          "text": [
            "80\n"
          ]
        }
      ],
      "source": [
        "print(null_vector.nbytes)"
      ]
    },
    {
      "cell_type": "markdown",
      "id": "23a792da",
      "metadata": {
        "id": "23a792da"
      },
      "source": [
        "5. How to get the documentation of the numpy add function from the command line?"
      ]
    },
    {
      "cell_type": "code",
      "execution_count": 119,
      "id": "c263898f",
      "metadata": {
        "vscode": {
          "languageId": "markdown"
        },
        "colab": {
          "base_uri": "https://localhost:8080/"
        },
        "id": "c263898f",
        "outputId": "f39c1472-6eba-47a8-e53f-899bb6907e9a"
      },
      "outputs": [
        {
          "output_type": "stream",
          "name": "stdout",
          "text": [
            "Help on ufunc:\n",
            "\n",
            "add = <ufunc 'add'>\n",
            "    add(x1, x2, /, out=None, *, where=True, casting='same_kind', order='K', dtype=None, subok=True[, signature])\n",
            "    \n",
            "    Add arguments element-wise.\n",
            "    \n",
            "    Parameters\n",
            "    ----------\n",
            "    x1, x2 : array_like\n",
            "        The arrays to be added.\n",
            "        If ``x1.shape != x2.shape``, they must be broadcastable to a common\n",
            "        shape (which becomes the shape of the output).\n",
            "    out : ndarray, None, or tuple of ndarray and None, optional\n",
            "        A location into which the result is stored. If provided, it must have\n",
            "        a shape that the inputs broadcast to. If not provided or None,\n",
            "        a freshly-allocated array is returned. A tuple (possible only as a\n",
            "        keyword argument) must have length equal to the number of outputs.\n",
            "    where : array_like, optional\n",
            "        This condition is broadcast over the input. At locations where the\n",
            "        condition is True, the `out` array will be set to the ufunc result.\n",
            "        Elsewhere, the `out` array will retain its original value.\n",
            "        Note that if an uninitialized `out` array is created via the default\n",
            "        ``out=None``, locations within it where the condition is False will\n",
            "        remain uninitialized.\n",
            "    **kwargs\n",
            "        For other keyword-only arguments, see the\n",
            "        :ref:`ufunc docs <ufuncs.kwargs>`.\n",
            "    \n",
            "    Returns\n",
            "    -------\n",
            "    add : ndarray or scalar\n",
            "        The sum of `x1` and `x2`, element-wise.\n",
            "        This is a scalar if both `x1` and `x2` are scalars.\n",
            "    \n",
            "    Notes\n",
            "    -----\n",
            "    Equivalent to `x1` + `x2` in terms of array broadcasting.\n",
            "    \n",
            "    Examples\n",
            "    --------\n",
            "    >>> np.add(1.0, 4.0)\n",
            "    5.0\n",
            "    >>> x1 = np.arange(9.0).reshape((3, 3))\n",
            "    >>> x2 = np.arange(3.0)\n",
            "    >>> np.add(x1, x2)\n",
            "    array([[  0.,   2.,   4.],\n",
            "           [  3.,   5.,   7.],\n",
            "           [  6.,   8.,  10.]])\n",
            "    \n",
            "    The ``+`` operator can be used as a shorthand for ``np.add`` on ndarrays.\n",
            "    \n",
            "    >>> x1 = np.arange(9.0).reshape((3, 3))\n",
            "    >>> x2 = np.arange(3.0)\n",
            "    >>> x1 + x2\n",
            "    array([[ 0.,  2.,  4.],\n",
            "           [ 3.,  5.,  7.],\n",
            "           [ 6.,  8., 10.]])\n",
            "\n",
            "add(x1, x2, /, out=None, *, where=True, casting='same_kind', order='K', dtype=None, subok=True[, signature])\n",
            "\n",
            "Add arguments element-wise.\n",
            "\n",
            "Parameters\n",
            "----------\n",
            "x1, x2 : array_like\n",
            "    The arrays to be added.\n",
            "    If ``x1.shape != x2.shape``, they must be broadcastable to a common\n",
            "    shape (which becomes the shape of the output).\n",
            "out : ndarray, None, or tuple of ndarray and None, optional\n",
            "    A location into which the result is stored. If provided, it must have\n",
            "    a shape that the inputs broadcast to. If not provided or None,\n",
            "    a freshly-allocated array is returned. A tuple (possible only as a\n",
            "    keyword argument) must have length equal to the number of outputs.\n",
            "where : array_like, optional\n",
            "    This condition is broadcast over the input. At locations where the\n",
            "    condition is True, the `out` array will be set to the ufunc result.\n",
            "    Elsewhere, the `out` array will retain its original value.\n",
            "    Note that if an uninitialized `out` array is created via the default\n",
            "    ``out=None``, locations within it where the condition is False will\n",
            "    remain uninitialized.\n",
            "**kwargs\n",
            "    For other keyword-only arguments, see the\n",
            "    :ref:`ufunc docs <ufuncs.kwargs>`.\n",
            "\n",
            "Returns\n",
            "-------\n",
            "add : ndarray or scalar\n",
            "    The sum of `x1` and `x2`, element-wise.\n",
            "    This is a scalar if both `x1` and `x2` are scalars.\n",
            "\n",
            "Notes\n",
            "-----\n",
            "Equivalent to `x1` + `x2` in terms of array broadcasting.\n",
            "\n",
            "Examples\n",
            "--------\n",
            ">>> np.add(1.0, 4.0)\n",
            "5.0\n",
            ">>> x1 = np.arange(9.0).reshape((3, 3))\n",
            ">>> x2 = np.arange(3.0)\n",
            ">>> np.add(x1, x2)\n",
            "array([[  0.,   2.,   4.],\n",
            "       [  3.,   5.,   7.],\n",
            "       [  6.,   8.,  10.]])\n",
            "\n",
            "The ``+`` operator can be used as a shorthand for ``np.add`` on ndarrays.\n",
            "\n",
            ">>> x1 = np.arange(9.0).reshape((3, 3))\n",
            ">>> x2 = np.arange(3.0)\n",
            ">>> x1 + x2\n",
            "array([[ 0.,  2.,  4.],\n",
            "       [ 3.,  5.,  7.],\n",
            "       [ 6.,  8., 10.]])\n"
          ]
        }
      ],
      "source": [
        "help(np.add)\n",
        "\n",
        "# Or you can use:\n",
        "np.info(np.add)"
      ]
    },
    {
      "cell_type": "markdown",
      "id": "6beb77e0",
      "metadata": {
        "id": "6beb77e0"
      },
      "source": [
        "6. Create a null vector of size 10 but the fifth value which is 1"
      ]
    },
    {
      "cell_type": "code",
      "execution_count": 120,
      "id": "066293f0",
      "metadata": {
        "vscode": {
          "languageId": "markdown"
        },
        "colab": {
          "base_uri": "https://localhost:8080/"
        },
        "id": "066293f0",
        "outputId": "bd76e2bc-a1d4-433f-e7e1-a7b6992a78b4"
      },
      "outputs": [
        {
          "output_type": "stream",
          "name": "stdout",
          "text": [
            "[0. 0. 0. 0. 1. 0. 0. 0. 0. 0.]\n"
          ]
        }
      ],
      "source": [
        "null_vector1 = np.zeros(10)\n",
        "null_vector1[4] = 1\n",
        "print(null_vector1)"
      ]
    },
    {
      "cell_type": "markdown",
      "id": "38737c07",
      "metadata": {
        "id": "38737c07"
      },
      "source": [
        "7. Create a vector with values ranging from 10 to 49"
      ]
    },
    {
      "cell_type": "code",
      "execution_count": 121,
      "id": "6fc56380",
      "metadata": {
        "vscode": {
          "languageId": "markdown"
        },
        "colab": {
          "base_uri": "https://localhost:8080/"
        },
        "id": "6fc56380",
        "outputId": "6a3a3b7c-a5a9-49d1-edd4-f3d42b6562ad"
      },
      "outputs": [
        {
          "output_type": "stream",
          "name": "stdout",
          "text": [
            "[10 11 12 13 14 15 16 17 18 19 20 21 22 23 24 25 26 27 28 29 30 31 32 33\n",
            " 34 35 36 37 38 39 40 41 42 43 44 45 46 47 48]\n"
          ]
        }
      ],
      "source": [
        "num_vec = np.arange(10,49)\n",
        "print(num_vec)"
      ]
    },
    {
      "cell_type": "markdown",
      "id": "799e88d4",
      "metadata": {
        "id": "799e88d4"
      },
      "source": [
        "8. Reverse a vector (first element becomes last)"
      ]
    },
    {
      "cell_type": "code",
      "execution_count": 122,
      "id": "73b53659",
      "metadata": {
        "vscode": {
          "languageId": "markdown"
        },
        "colab": {
          "base_uri": "https://localhost:8080/"
        },
        "id": "73b53659",
        "outputId": "fe25e934-60aa-4c33-b265-21cd18c10a95"
      },
      "outputs": [
        {
          "output_type": "stream",
          "name": "stdout",
          "text": [
            "[48 47 46 45 44 43 42 41 40 39 38 37 36 35 34 33 32 31 30 29 28 27 26 25\n",
            " 24 23 22 21 20 19 18 17 16 15 14 13 12 11 10]\n"
          ]
        }
      ],
      "source": [
        "reversed_vec = num_vec[::-1]\n",
        "print(reversed_vec)"
      ]
    },
    {
      "cell_type": "markdown",
      "id": "b7592586",
      "metadata": {
        "id": "b7592586"
      },
      "source": [
        "9. Create a 3x3 matrix with values ranging from 0 to 8"
      ]
    },
    {
      "cell_type": "code",
      "execution_count": 123,
      "id": "f8051c9c",
      "metadata": {
        "vscode": {
          "languageId": "markdown"
        },
        "colab": {
          "base_uri": "https://localhost:8080/"
        },
        "id": "f8051c9c",
        "outputId": "913a5e17-bce1-4fa1-9f56-71cabe4f5fd1"
      },
      "outputs": [
        {
          "output_type": "execute_result",
          "data": {
            "text/plain": [
              "array([[0, 1, 2],\n",
              "       [3, 4, 5],\n",
              "       [6, 7, 8]])"
            ]
          },
          "metadata": {},
          "execution_count": 123
        }
      ],
      "source": [
        "np.arange(9).reshape(3, 3)"
      ]
    },
    {
      "cell_type": "markdown",
      "id": "57aee8ac",
      "metadata": {
        "id": "57aee8ac"
      },
      "source": [
        "10. Find indices of non-zero elements from [1,2,0,0,4,0]"
      ]
    },
    {
      "cell_type": "code",
      "execution_count": 124,
      "id": "72239583",
      "metadata": {
        "colab": {
          "base_uri": "https://localhost:8080/"
        },
        "id": "72239583",
        "outputId": "e6e8aad8-41fa-4a56-911a-9aee68cebc6e"
      },
      "outputs": [
        {
          "output_type": "stream",
          "name": "stdout",
          "text": [
            "(array([0, 1, 4]),)\n"
          ]
        }
      ],
      "source": [
        "arr = np.array([1, 2, 0, 0, 4, 0])\n",
        "indices = np.nonzero(arr)\n",
        "print(indices)"
      ]
    },
    {
      "cell_type": "markdown",
      "id": "2d8fd3bb",
      "metadata": {
        "id": "2d8fd3bb"
      },
      "source": [
        "11. Create a 3x3 identity matrix"
      ]
    },
    {
      "cell_type": "code",
      "execution_count": 125,
      "id": "8c717fe7",
      "metadata": {
        "colab": {
          "base_uri": "https://localhost:8080/"
        },
        "id": "8c717fe7",
        "outputId": "0b8bab80-5e35-493e-fc1d-0806cb33365e"
      },
      "outputs": [
        {
          "output_type": "stream",
          "name": "stdout",
          "text": [
            "[[1. 0. 0.]\n",
            " [0. 1. 0.]\n",
            " [0. 0. 1.]]\n"
          ]
        }
      ],
      "source": [
        "identity_matrix = np.eye(3)\n",
        "print(identity_matrix)"
      ]
    },
    {
      "cell_type": "markdown",
      "id": "790cf9fb",
      "metadata": {
        "id": "790cf9fb"
      },
      "source": [
        "12. Create a 3x3x3 array with random values"
      ]
    },
    {
      "cell_type": "code",
      "execution_count": 126,
      "id": "4da71e14",
      "metadata": {
        "colab": {
          "base_uri": "https://localhost:8080/"
        },
        "id": "4da71e14",
        "outputId": "2a26208a-1f7a-4b38-c142-a447e79a1885"
      },
      "outputs": [
        {
          "output_type": "execute_result",
          "data": {
            "text/plain": [
              "array([[[0.87124507, 0.27854909, 0.01618205],\n",
              "        [0.37385303, 0.66355273, 0.07057732],\n",
              "        [0.50164551, 0.66428656, 0.93185996]],\n",
              "\n",
              "       [[0.3649001 , 0.02342263, 0.31784961],\n",
              "        [0.8215939 , 0.45131572, 0.58948598],\n",
              "        [0.77077972, 0.44003745, 0.81972454]],\n",
              "\n",
              "       [[0.00320478, 0.30317124, 0.50108545],\n",
              "        [0.45146172, 0.42325535, 0.73994106],\n",
              "        [0.40595592, 0.98786611, 0.54143248]]])"
            ]
          },
          "metadata": {},
          "execution_count": 126
        }
      ],
      "source": [
        "np.random.rand(3,3,3)"
      ]
    },
    {
      "cell_type": "markdown",
      "id": "3a4fde52",
      "metadata": {
        "id": "3a4fde52"
      },
      "source": [
        "13. Create a 10x10 array with random values and find the minimum and maximum values"
      ]
    },
    {
      "cell_type": "code",
      "execution_count": 127,
      "id": "d7f4964b",
      "metadata": {
        "colab": {
          "base_uri": "https://localhost:8080/"
        },
        "id": "d7f4964b",
        "outputId": "5c710532-d0b5-4655-a426-cbd18960b61c"
      },
      "outputs": [
        {
          "output_type": "stream",
          "name": "stdout",
          "text": [
            "[[0.40857874 0.17088823 0.4142113  0.32431601 0.16397404 0.75540406\n",
            "  0.66694704 0.22096935 0.49289299 0.07748731]\n",
            " [0.7972728  0.03820841 0.83378616 0.95507925 0.30643356 0.71897659\n",
            "  0.11011062 0.01358378 0.46108458 0.07509653]\n",
            " [0.33141234 0.48503592 0.00330068 0.76336759 0.49879585 0.41030032\n",
            "  0.95465759 0.68883848 0.64406877 0.42091712]\n",
            " [0.35363053 0.29952938 0.91531758 0.84422748 0.83040864 0.96696805\n",
            "  0.83908291 0.89446558 0.58392168 0.74745714]\n",
            " [0.43990152 0.43864479 0.11671492 0.69682637 0.90804834 0.42272133\n",
            "  0.92780048 0.42103463 0.51041418 0.00729731]\n",
            " [0.30940269 0.63673818 0.81261385 0.84534302 0.78206946 0.05163491\n",
            "  0.68549021 0.97714385 0.07123853 0.01406002]\n",
            " [0.48679409 0.07807588 0.24229834 0.91622125 0.00224045 0.01785678\n",
            "  0.94000262 0.93361756 0.29182884 0.25587577]\n",
            " [0.91195269 0.2990939  0.38066711 0.5120122  0.50848055 0.25575532\n",
            "  0.7194476  0.54513871 0.42215534 0.15567661]\n",
            " [0.8392856  0.96310512 0.54921459 0.95010883 0.76587189 0.13766205\n",
            "  0.29618338 0.30131776 0.1238938  0.50480169]\n",
            " [0.42294415 0.73745609 0.00729341 0.45826178 0.58201098 0.93289698\n",
            "  0.49948256 0.95981766 0.64189364 0.92710858]]\n",
            "The Minimum is:  0.002240447025720571\n",
            "The Maximum is:  0.9771438523480878\n"
          ]
        }
      ],
      "source": [
        "rand = np.random.rand(10,10)\n",
        "print(rand)\n",
        "print(\"The Minimum is: \", rand.min())\n",
        "print(\"The Maximum is: \", rand.max())"
      ]
    },
    {
      "cell_type": "markdown",
      "id": "8d36e18f",
      "metadata": {
        "id": "8d36e18f"
      },
      "source": [
        "14. Create a random vector of size 30 and find the mean value"
      ]
    },
    {
      "cell_type": "code",
      "execution_count": 128,
      "id": "48ce9802",
      "metadata": {
        "colab": {
          "base_uri": "https://localhost:8080/"
        },
        "id": "48ce9802",
        "outputId": "3b99ca6f-e8cd-4678-f22d-9ff0c5e31850"
      },
      "outputs": [
        {
          "output_type": "stream",
          "name": "stdout",
          "text": [
            "[7.72156531e-01 9.58822619e-02 8.49916356e-01 3.61545001e-01\n",
            " 4.33570566e-01 6.11737680e-01 5.97898733e-01 1.67999582e-02\n",
            " 4.32587972e-01 5.67153834e-01 8.21112134e-02 7.10671390e-04\n",
            " 5.48655758e-01 8.62009182e-01 1.68360547e-02 9.30665532e-01\n",
            " 7.45029484e-01 6.69147589e-01 2.61605312e-01 6.58615621e-01\n",
            " 8.10483193e-01 4.85957528e-01 5.05457315e-01 3.37929730e-01\n",
            " 9.92788475e-01 8.77471857e-01 2.11156820e-01 3.59793589e-01\n",
            " 1.88844449e-01 6.69914506e-01]\n"
          ]
        },
        {
          "output_type": "execute_result",
          "data": {
            "text/plain": [
              "np.float64(0.544385498257293)"
            ]
          },
          "metadata": {},
          "execution_count": 128
        }
      ],
      "source": [
        "print(np.random.rand(30))\n",
        "np.random.rand(30).mean()"
      ]
    },
    {
      "cell_type": "markdown",
      "id": "7de32b3e",
      "metadata": {
        "id": "7de32b3e"
      },
      "source": [
        "15. Create a 2d array with 1 on the border and 0 inside"
      ]
    },
    {
      "cell_type": "code",
      "execution_count": 129,
      "id": "07e8e2c2",
      "metadata": {
        "colab": {
          "base_uri": "https://localhost:8080/"
        },
        "id": "07e8e2c2",
        "outputId": "e80fdd61-7d69-46b1-e4d1-cf8b59b13005"
      },
      "outputs": [
        {
          "output_type": "stream",
          "name": "stdout",
          "text": [
            "[[1 1 1 1 1]\n",
            " [1 0 0 0 1]\n",
            " [1 0 0 0 1]\n",
            " [1 0 0 0 1]\n",
            " [1 1 1 1 1]]\n"
          ]
        }
      ],
      "source": [
        "border_array = np.ones((5, 5), dtype=int)\n",
        "border_array[1:-1, 1:-1] = 0\n",
        "print(border_array)"
      ]
    },
    {
      "cell_type": "markdown",
      "id": "fb1b0319",
      "metadata": {
        "id": "fb1b0319"
      },
      "source": [
        "16. How to add a border (filled with 0's) around an existing array?"
      ]
    },
    {
      "cell_type": "code",
      "execution_count": 130,
      "id": "840ca4a6",
      "metadata": {
        "colab": {
          "base_uri": "https://localhost:8080/"
        },
        "id": "840ca4a6",
        "outputId": "18634044-7d10-4cef-d084-15df17c8f822"
      },
      "outputs": [
        {
          "output_type": "stream",
          "name": "stdout",
          "text": [
            "[0 1 2 0 0 4 0 0]\n"
          ]
        }
      ],
      "source": [
        "padded_array = np.pad(arr, pad_width=1, mode='constant', constant_values=0)\n",
        "print(padded_array)"
      ]
    },
    {
      "cell_type": "markdown",
      "id": "13efdb2b",
      "metadata": {
        "id": "13efdb2b"
      },
      "source": [
        "17. What is the result of the following expression?\n",
        "\n",
        "0 * np.nan<br>\n",
        "np.nan == np.nan<br>\n",
        "np.inf > np.nan<br>\n",
        "np.nan - np.nan<br>\n",
        "np.nan in set([np.nan])<br>\n",
        "0.3 == 3 * 0.1"
      ]
    },
    {
      "cell_type": "code",
      "execution_count": 131,
      "id": "94423d4d",
      "metadata": {
        "colab": {
          "base_uri": "https://localhost:8080/"
        },
        "id": "94423d4d",
        "outputId": "a4961846-d7f9-43e2-fbcc-3948ae718ab6"
      },
      "outputs": [
        {
          "output_type": "stream",
          "name": "stdout",
          "text": [
            "nan\n",
            "False\n",
            "False\n",
            "nan\n",
            "True\n",
            "False\n"
          ]
        }
      ],
      "source": [
        "print(0 * np.nan)\n",
        "print(np.nan == np.nan)\n",
        "print(np.inf > np.nan)\n",
        "print(np.nan - np.nan)\n",
        "print(np.nan in set([np.nan]))\n",
        "print(0.3 == 3 * 0.1)"
      ]
    },
    {
      "cell_type": "markdown",
      "id": "82af9057",
      "metadata": {
        "id": "82af9057"
      },
      "source": [
        "18. Create a 5x5 matrix with values 1,2,3,4 just below the diagonal"
      ]
    },
    {
      "cell_type": "code",
      "execution_count": 132,
      "id": "13da6d5b",
      "metadata": {
        "colab": {
          "base_uri": "https://localhost:8080/"
        },
        "id": "13da6d5b",
        "outputId": "7065e95a-6e33-4782-9cba-311f52835255"
      },
      "outputs": [
        {
          "output_type": "stream",
          "name": "stdout",
          "text": [
            "[[0 0 0 0 0]\n",
            " [1 0 0 0 0]\n",
            " [0 2 0 0 0]\n",
            " [0 0 3 0 0]\n",
            " [0 0 0 4 0]]\n"
          ]
        }
      ],
      "source": [
        "matrix = np.diag([1, 2, 3, 4], k=-1)\n",
        "print(matrix)"
      ]
    },
    {
      "cell_type": "markdown",
      "id": "5b0ef093",
      "metadata": {
        "id": "5b0ef093"
      },
      "source": [
        "19. Create a 8x8 matrix and fill it with a checkerboard pattern"
      ]
    },
    {
      "cell_type": "code",
      "execution_count": 133,
      "id": "cda07578",
      "metadata": {
        "colab": {
          "base_uri": "https://localhost:8080/"
        },
        "id": "cda07578",
        "outputId": "9cf14751-1e7f-4972-e183-a2d5587446ee"
      },
      "outputs": [
        {
          "output_type": "stream",
          "name": "stdout",
          "text": [
            "[[0 1 0 1 0 1 0 1]\n",
            " [1 0 1 0 1 0 1 0]\n",
            " [0 1 0 1 0 1 0 1]\n",
            " [1 0 1 0 1 0 1 0]\n",
            " [0 1 0 1 0 1 0 1]\n",
            " [1 0 1 0 1 0 1 0]\n",
            " [0 1 0 1 0 1 0 1]\n",
            " [1 0 1 0 1 0 1 0]]\n"
          ]
        }
      ],
      "source": [
        "checkerboard = np.zeros((8, 8), dtype=int)\n",
        "checkerboard[1::2, ::2] = 1\n",
        "checkerboard[::2, 1::2] = 1\n",
        "print(checkerboard)"
      ]
    },
    {
      "cell_type": "markdown",
      "id": "7c21ed62",
      "metadata": {
        "id": "7c21ed62"
      },
      "source": [
        "20. Consider a (6,7,8) shape array, what is the index (x,y,z) of the 100th element?"
      ]
    },
    {
      "cell_type": "code",
      "execution_count": 134,
      "id": "99667568",
      "metadata": {
        "colab": {
          "base_uri": "https://localhost:8080/"
        },
        "id": "99667568",
        "outputId": "5e102c3c-e64a-456b-cbfc-1fee1f274a8e"
      },
      "outputs": [
        {
          "output_type": "execute_result",
          "data": {
            "text/plain": [
              "(np.int64(1), np.int64(5), np.int64(4))"
            ]
          },
          "metadata": {},
          "execution_count": 134
        }
      ],
      "source": [
        "np.unravel_index(100, (6, 7, 8))"
      ]
    },
    {
      "cell_type": "markdown",
      "id": "c525af2e",
      "metadata": {
        "id": "c525af2e"
      },
      "source": [
        "21. Create a checkerboard 8x8 matrix using the tile function"
      ]
    },
    {
      "cell_type": "code",
      "execution_count": 135,
      "id": "af768b6d",
      "metadata": {
        "colab": {
          "base_uri": "https://localhost:8080/"
        },
        "id": "af768b6d",
        "outputId": "0d89b174-5820-4379-ccd1-24f65a2ebb8c"
      },
      "outputs": [
        {
          "output_type": "stream",
          "name": "stdout",
          "text": [
            "[[0 1 0 1 0 1 0 1]\n",
            " [1 0 1 0 1 0 1 0]\n",
            " [0 1 0 1 0 1 0 1]\n",
            " [1 0 1 0 1 0 1 0]\n",
            " [0 1 0 1 0 1 0 1]\n",
            " [1 0 1 0 1 0 1 0]\n",
            " [0 1 0 1 0 1 0 1]\n",
            " [1 0 1 0 1 0 1 0]]\n"
          ]
        }
      ],
      "source": [
        "checkerboard_tile = np.tile([[0, 1], [1, 0]], (4, 4))\n",
        "print(checkerboard_tile)"
      ]
    },
    {
      "cell_type": "markdown",
      "source": [
        "22. Normalize a 5x5 random matrix"
      ],
      "metadata": {
        "id": "LZs4xHMetM-h"
      },
      "id": "LZs4xHMetM-h"
    },
    {
      "cell_type": "code",
      "source": [
        "rand_matrix = np.random.rand(5, 5)\n",
        "normalized_matrix = (rand_matrix - rand_matrix.min()) / (rand_matrix.max() - rand_matrix.min())\n",
        "print(normalized_matrix)"
      ],
      "metadata": {
        "colab": {
          "base_uri": "https://localhost:8080/"
        },
        "id": "Z1T1pMvUtYNh",
        "outputId": "f206b89a-2533-4b92-93bd-25d3fc76f770"
      },
      "id": "Z1T1pMvUtYNh",
      "execution_count": 136,
      "outputs": [
        {
          "output_type": "stream",
          "name": "stdout",
          "text": [
            "[[0.4966844  0.65119978 0.86414608 0.65412169 0.50910967]\n",
            " [0.87992575 0.80277499 0.34086607 0.32457069 0.01748756]\n",
            " [1.         0.         0.61378249 0.29339406 0.22680298]\n",
            " [0.54877352 0.67970408 0.35449923 0.23963242 0.17918072]\n",
            " [0.78940624 0.34944688 0.52510107 0.23601095 0.7566866 ]]\n"
          ]
        }
      ]
    },
    {
      "cell_type": "markdown",
      "source": [
        "23. Create a custom dtype that describes a color as four unsigned bytes (RGBA)"
      ],
      "metadata": {
        "id": "WnGjMvNHtnnP"
      },
      "id": "WnGjMvNHtnnP"
    },
    {
      "cell_type": "code",
      "source": [
        "rgba_dtype = np.dtype([('red', np.uint8), ('green', np.uint8), ('blue', np.uint8), ('alpha', np.uint8)])\n",
        "print(rgba_dtype)"
      ],
      "metadata": {
        "colab": {
          "base_uri": "https://localhost:8080/"
        },
        "id": "Vd-jDtEqtwia",
        "outputId": "89f4ad75-42de-4639-a232-9f1e3e3c1624"
      },
      "id": "Vd-jDtEqtwia",
      "execution_count": 137,
      "outputs": [
        {
          "output_type": "stream",
          "name": "stdout",
          "text": [
            "[('red', 'u1'), ('green', 'u1'), ('blue', 'u1'), ('alpha', 'u1')]\n"
          ]
        }
      ]
    },
    {
      "cell_type": "markdown",
      "source": [
        "24. Multiply a 5x3 matrix by a 3x2 matrix (real matrix product)"
      ],
      "metadata": {
        "id": "Abmp0PMzuRde"
      },
      "id": "Abmp0PMzuRde"
    },
    {
      "cell_type": "code",
      "source": [
        "matrix1 = np.random.rand(5, 3)\n",
        "matrix2 = np.random.rand(3, 2)\n",
        "product_matrix = np.dot(matrix1, matrix2)\n",
        "# Alternatively, you can use the @ operator for matrix multiplication:\n",
        "product_matrix = matrix1 @ matrix2\n",
        "print(product_matrix)"
      ],
      "metadata": {
        "colab": {
          "base_uri": "https://localhost:8080/"
        },
        "id": "ttV0ExvL2y7Z",
        "outputId": "f396d90c-f079-4a62-bfec-a6cc2b5a5d4d"
      },
      "id": "ttV0ExvL2y7Z",
      "execution_count": 138,
      "outputs": [
        {
          "output_type": "stream",
          "name": "stdout",
          "text": [
            "[[0.5832633  0.99164524]\n",
            " [0.69917627 1.61520514]\n",
            " [0.19750219 0.88543349]\n",
            " [0.18347197 0.56744535]\n",
            " [0.53819949 1.37754219]]\n"
          ]
        }
      ]
    },
    {
      "cell_type": "markdown",
      "source": [
        "25. Given a 1D array, negate all elements which are between 3 and 8, in place"
      ],
      "metadata": {
        "id": "NPwARjBw3wju"
      },
      "id": "NPwARjBw3wju"
    },
    {
      "cell_type": "code",
      "source": [
        "arr = np.arange(10)\n",
        "arr[(arr > 3) & (arr < 8)] *= -1\n",
        "print(arr)"
      ],
      "metadata": {
        "colab": {
          "base_uri": "https://localhost:8080/"
        },
        "id": "Cn0bdJ4S39gj",
        "outputId": "f8dd2c47-66fd-4642-ed87-0b9e0d0cd412"
      },
      "id": "Cn0bdJ4S39gj",
      "execution_count": 139,
      "outputs": [
        {
          "output_type": "stream",
          "name": "stdout",
          "text": [
            "[ 0  1  2  3 -4 -5 -6 -7  8  9]\n"
          ]
        }
      ]
    },
    {
      "cell_type": "markdown",
      "source": [
        "26. What is the output of the following script?\n",
        "\n",
        "print(sum(range(5),-1))\n",
        "\n",
        "from numpy import *\n",
        "\n",
        "print(sum(range(5),-1))"
      ],
      "metadata": {
        "id": "al1An0aL4oIY"
      },
      "id": "al1An0aL4oIY"
    },
    {
      "cell_type": "code",
      "source": [
        "print(sum(range(5),-1))\n",
        "\n",
        "from numpy import *\n",
        "\n",
        "print(sum(range(5),-1))"
      ],
      "metadata": {
        "colab": {
          "base_uri": "https://localhost:8080/"
        },
        "id": "LBiA4vxd5JVJ",
        "outputId": "2f2774f7-9eed-465e-c519-4df9eef4dc7e"
      },
      "id": "LBiA4vxd5JVJ",
      "execution_count": 140,
      "outputs": [
        {
          "output_type": "stream",
          "name": "stdout",
          "text": [
            "10\n",
            "10\n"
          ]
        }
      ]
    },
    {
      "cell_type": "markdown",
      "source": [
        "27. Consider an integer vector Z, which of these expressions are legal?\n",
        "\n",
        "Z**Z\n",
        "\n",
        "2 << Z >> 2\n",
        "\n",
        "Z <- Z\n",
        "\n",
        "1j*Z\n",
        "\n",
        "Z/1/1\n",
        "\n",
        "Z<Z>Z"
      ],
      "metadata": {
        "id": "UMP4wsCa5bBV"
      },
      "id": "UMP4wsCa5bBV"
    },
    {
      "cell_type": "code",
      "source": [
        "Z = np.arange(5) # Sample integer vector\n",
        "\n",
        "print(\"Z**Z:\", Z**Z)\n",
        "print(\"2 << Z >> 2:\", 2 << Z >> 2)\n",
        "# print(\"Z <- Z:\", Z <- Z) # This is not legal Python/NumPy syntax for element-wise comparison and assignment\n",
        "print(\"1j*Z:\", 1j*Z)\n",
        "print(\"Z/1/1:\", Z/1/1)\n",
        "# print(\"Z<Z>Z:\", Z<Z>Z) # This is not legal Python/NumPy syntax for chained comparison with arrays"
      ],
      "metadata": {
        "colab": {
          "base_uri": "https://localhost:8080/"
        },
        "id": "wxzHPMEo5iS_",
        "outputId": "cf6bde91-8512-46cf-f6b1-a6c1dd832bfb"
      },
      "id": "wxzHPMEo5iS_",
      "execution_count": 141,
      "outputs": [
        {
          "output_type": "stream",
          "name": "stdout",
          "text": [
            "Z**Z: [  1   1   4  27 256]\n",
            "2 << Z >> 2: [0 1 2 4 8]\n",
            "1j*Z: [0.+0.j 0.+1.j 0.+2.j 0.+3.j 0.+4.j]\n",
            "Z/1/1: [0. 1. 2. 3. 4.]\n"
          ]
        }
      ]
    },
    {
      "cell_type": "markdown",
      "source": [
        "28. What are the result of the following expressions?"
      ],
      "metadata": {
        "id": "cEKHbSor596K"
      },
      "id": "cEKHbSor596K"
    },
    {
      "cell_type": "code",
      "source": [
        "np.array(0) / np.array(0)\n",
        "np.array(0) // np.array(0)\n",
        "np.array([np.nan]).astype(int).astype(float)"
      ],
      "metadata": {
        "colab": {
          "base_uri": "https://localhost:8080/"
        },
        "id": "vLPI5kbI6FBB",
        "outputId": "78843c3b-ac64-4abe-e544-2b967715b2db"
      },
      "id": "vLPI5kbI6FBB",
      "execution_count": 142,
      "outputs": [
        {
          "output_type": "execute_result",
          "data": {
            "text/plain": [
              "array([-9.22337204e+18])"
            ]
          },
          "metadata": {},
          "execution_count": 142
        }
      ]
    },
    {
      "cell_type": "markdown",
      "source": [
        "29. How to round away from zero a float array ?"
      ],
      "metadata": {
        "id": "8q0lcz9P6cUf"
      },
      "id": "8q0lcz9P6cUf"
    },
    {
      "cell_type": "code",
      "metadata": {
        "colab": {
          "base_uri": "https://localhost:8080/"
        },
        "id": "a8f6b371",
        "outputId": "625a6512-b926-4cab-9186-7484adbadc20"
      },
      "source": [
        "# Create a sample float array\n",
        "float_array = np.array([-1.5, -0.8, 0.2, 1.9, -2.1, 3.5])\n",
        "\n",
        "# Round away from zero\n",
        "rounded_array = np.copysign(np.ceil(np.abs(float_array)), float_array)\n",
        "\n",
        "print(rounded_array)"
      ],
      "id": "a8f6b371",
      "execution_count": 143,
      "outputs": [
        {
          "output_type": "stream",
          "name": "stdout",
          "text": [
            "[-2. -1.  1.  2. -3.  4.]\n"
          ]
        }
      ]
    },
    {
      "cell_type": "markdown",
      "source": [
        "30. How to find common values between two arrays?"
      ],
      "metadata": {
        "id": "BGjjMCRJ7Lyj"
      },
      "id": "BGjjMCRJ7Lyj"
    },
    {
      "cell_type": "code",
      "source": [
        "import numpy as np\n",
        "\n",
        "# Create two sample arrays\n",
        "array1 = np.array([1, 2, 3, 4, 5])\n",
        "array2 = np.array([3, 4, 5, 6, 7])\n",
        "\n",
        "# Find common values\n",
        "common_values = np.intersect1d(array1, array2)\n",
        "\n",
        "print(common_values)"
      ],
      "metadata": {
        "colab": {
          "base_uri": "https://localhost:8080/"
        },
        "id": "EHipmszR7ZiE",
        "outputId": "39e700b2-2e81-4f3b-be31-d10bb8c58164"
      },
      "id": "EHipmszR7ZiE",
      "execution_count": 144,
      "outputs": [
        {
          "output_type": "stream",
          "name": "stdout",
          "text": [
            "[3 4 5]\n"
          ]
        }
      ]
    },
    {
      "cell_type": "markdown",
      "source": [
        "31. How to ignore all numpy warnings (not recommended)?"
      ],
      "metadata": {
        "id": "EdoqwOf_7lvf"
      },
      "id": "EdoqwOf_7lvf"
    },
    {
      "cell_type": "code",
      "source": [
        "# Create a scenario that would normally produce a warning (e.g., division by zero)\n",
        "with np.errstate(divide='warn'):\n",
        "    print(np.array([1, 2, 3]) / np.array([0, 1, 2]))\n",
        "\n",
        "# Ignore all warnings\n",
        "np.seterr(all='ignore')\n",
        "\n",
        "# Now the division by zero warning will be suppressed\n",
        "print(np.array([1, 2, 3]) / np.array([0, 1, 2]))\n"
      ],
      "metadata": {
        "colab": {
          "base_uri": "https://localhost:8080/"
        },
        "id": "EvAtfbuZ7qPv",
        "outputId": "4a0b82d8-1db3-4f91-d96f-e22fa81c28fc"
      },
      "id": "EvAtfbuZ7qPv",
      "execution_count": 145,
      "outputs": [
        {
          "output_type": "stream",
          "name": "stdout",
          "text": [
            "[inf 2.  1.5]\n",
            "[inf 2.  1.5]\n"
          ]
        },
        {
          "output_type": "stream",
          "name": "stderr",
          "text": [
            "/tmp/ipython-input-4225702701.py:3: RuntimeWarning: divide by zero encountered in divide\n",
            "  print(np.array([1, 2, 3]) / np.array([0, 1, 2]))\n"
          ]
        }
      ]
    },
    {
      "cell_type": "markdown",
      "source": [
        "32. Is the following expressions true?\n",
        "\n",
        "np.sqrt(-1) == np.emath.sqrt(-1)"
      ],
      "metadata": {
        "id": "5GIQVjRa8VIg"
      },
      "id": "5GIQVjRa8VIg"
    },
    {
      "cell_type": "code",
      "source": [
        "np.sqrt(-1) == np.emath.sqrt(-1)"
      ],
      "metadata": {
        "colab": {
          "base_uri": "https://localhost:8080/"
        },
        "id": "g6gSpVNK8aUp",
        "outputId": "25401e49-84c4-468e-b543-a074c8d4aff7"
      },
      "id": "g6gSpVNK8aUp",
      "execution_count": 146,
      "outputs": [
        {
          "output_type": "execute_result",
          "data": {
            "text/plain": [
              "np.False_"
            ]
          },
          "metadata": {},
          "execution_count": 146
        }
      ]
    },
    {
      "cell_type": "markdown",
      "source": [
        "33. How to get the dates of yesterday, today and tomorrow?"
      ],
      "metadata": {
        "id": "oazHF5mY8knj"
      },
      "id": "oazHF5mY8knj"
    },
    {
      "cell_type": "code",
      "source": [
        "today = np.datetime64('today', 'D')\n",
        "yesterday = today - np.timedelta64(1, 'D')\n",
        "tomorrow = today + np.timedelta64(1, 'D')\n",
        "\n",
        "print(\"Yesterday:\", yesterday)\n",
        "print(\"Today:\", today)\n",
        "print(\"Tomorrow:\", tomorrow)"
      ],
      "metadata": {
        "colab": {
          "base_uri": "https://localhost:8080/"
        },
        "id": "Ly8eDJ_S8oSc",
        "outputId": "52c6125d-b10f-4cd0-9943-653d9b71159a"
      },
      "id": "Ly8eDJ_S8oSc",
      "execution_count": 147,
      "outputs": [
        {
          "output_type": "stream",
          "name": "stdout",
          "text": [
            "Yesterday: 2025-08-10\n",
            "Today: 2025-08-11\n",
            "Tomorrow: 2025-08-12\n"
          ]
        }
      ]
    },
    {
      "cell_type": "markdown",
      "source": [
        "34. How to get all the dates corresponding to the month of July 2016?"
      ],
      "metadata": {
        "id": "cVbNeqYh8-NG"
      },
      "id": "cVbNeqYh8-NG"
    },
    {
      "cell_type": "code",
      "source": [
        "dates_july_2016 = np.arange('2016-07', '2016-08', dtype='datetime64[D]')\n",
        "print(dates_july_2016)"
      ],
      "metadata": {
        "colab": {
          "base_uri": "https://localhost:8080/"
        },
        "id": "hjIJCqWu9D-x",
        "outputId": "12e06f66-1a58-4bc0-d218-5d2041cf04db"
      },
      "id": "hjIJCqWu9D-x",
      "execution_count": 148,
      "outputs": [
        {
          "output_type": "stream",
          "name": "stdout",
          "text": [
            "['2016-07-01' '2016-07-02' '2016-07-03' '2016-07-04' '2016-07-05'\n",
            " '2016-07-06' '2016-07-07' '2016-07-08' '2016-07-09' '2016-07-10'\n",
            " '2016-07-11' '2016-07-12' '2016-07-13' '2016-07-14' '2016-07-15'\n",
            " '2016-07-16' '2016-07-17' '2016-07-18' '2016-07-19' '2016-07-20'\n",
            " '2016-07-21' '2016-07-22' '2016-07-23' '2016-07-24' '2016-07-25'\n",
            " '2016-07-26' '2016-07-27' '2016-07-28' '2016-07-29' '2016-07-30'\n",
            " '2016-07-31']\n"
          ]
        }
      ]
    },
    {
      "cell_type": "markdown",
      "source": [
        "35. How to compute ((A+B)*(-A/2)) in place (without copy)?"
      ],
      "metadata": {
        "id": "Bjn3Jxwd9OXL"
      },
      "id": "Bjn3Jxwd9OXL"
    },
    {
      "cell_type": "code",
      "source": [
        "import numpy as np\n",
        "\n",
        "# Create sample arrays A and B\n",
        "A = np.ones(10)\n",
        "B = np.ones(10) * 2\n",
        "\n",
        "# Compute (A+B) in place (store in A)\n",
        "np.add(A, B, out=A)\n",
        "\n",
        "# Compute (-A/2) in place (store in B)\n",
        "np.divide(A, -2, out=B)\n",
        "\n",
        "# Compute (A * B) in place (store in A)\n",
        "np.multiply(A, B, out=A)\n",
        "\n",
        "print(A)"
      ],
      "metadata": {
        "colab": {
          "base_uri": "https://localhost:8080/"
        },
        "id": "w9SEJ5N49SOD",
        "outputId": "d11fd3e2-3f6d-4ba6-b63a-4a147023278e"
      },
      "id": "w9SEJ5N49SOD",
      "execution_count": 149,
      "outputs": [
        {
          "output_type": "stream",
          "name": "stdout",
          "text": [
            "[-4.5 -4.5 -4.5 -4.5 -4.5 -4.5 -4.5 -4.5 -4.5 -4.5]\n"
          ]
        }
      ]
    },
    {
      "cell_type": "markdown",
      "source": [
        "36. Extract the integer part of a random array of positive numbers using 4 different methods"
      ],
      "metadata": {
        "id": "36gGxOkQ9kaG"
      },
      "id": "36gGxOkQ9kaG"
    },
    {
      "cell_type": "code",
      "source": [
        "# Create a random array of positive numbers\n",
        "random_array = np.random.uniform(0, 10, 10)\n",
        "print(\"Original array:\", random_array)\n",
        "\n",
        "# Method 1: Using the floor function\n",
        "method1 = np.floor(random_array)\n",
        "print(\"Method 1 (floor):\", method1)\n",
        "\n",
        "# Method 2: Using astype(int)\n",
        "method2 = random_array.astype(int)\n",
        "print(\"Method 2 (astype(int)):\", method2)\n",
        "\n",
        "# Method 3: Using the trunc function\n",
        "method3 = np.trunc(random_array)\n",
        "print(\"Method 3 (trunc):\", method3)\n",
        "\n",
        "# Method 4: Using the double slash operator (integer division)\n",
        "method4 = random_array // 1\n",
        "print(\"Method 4 (integer division):\", method4)"
      ],
      "metadata": {
        "colab": {
          "base_uri": "https://localhost:8080/"
        },
        "id": "CZLjFW7F9pen",
        "outputId": "e482ccc7-860e-4408-c853-2628d792484c"
      },
      "id": "CZLjFW7F9pen",
      "execution_count": 150,
      "outputs": [
        {
          "output_type": "stream",
          "name": "stdout",
          "text": [
            "Original array: [2.40275872 7.80661011 2.40227492 0.98076757 6.94198353 3.80023759\n",
            " 0.01497003 2.93370938 5.7300531  6.38722463]\n",
            "Method 1 (floor): [2. 7. 2. 0. 6. 3. 0. 2. 5. 6.]\n",
            "Method 2 (astype(int)): [2 7 2 0 6 3 0 2 5 6]\n",
            "Method 3 (trunc): [2. 7. 2. 0. 6. 3. 0. 2. 5. 6.]\n",
            "Method 4 (integer division): [2. 7. 2. 0. 6. 3. 0. 2. 5. 6.]\n"
          ]
        }
      ]
    },
    {
      "cell_type": "markdown",
      "source": [
        "37. Create a 5x5 matrix with row values ranging from 0 to 4"
      ],
      "metadata": {
        "id": "1if8B56F94FE"
      },
      "id": "1if8B56F94FE"
    },
    {
      "cell_type": "code",
      "source": [
        "matrix = np.tile(np.arange(5), (5, 1))\n",
        "print(matrix)\n",
        "\n",
        "# Alternatively, using broadcasting:\n",
        "matrix = np.arange(5) + np.zeros((5, 5), dtype=int)\n",
        "print(matrix)"
      ],
      "metadata": {
        "colab": {
          "base_uri": "https://localhost:8080/"
        },
        "id": "-i_VY0C298F1",
        "outputId": "f39915de-bb17-45de-ed5d-a0bfe7fe571d"
      },
      "id": "-i_VY0C298F1",
      "execution_count": 151,
      "outputs": [
        {
          "output_type": "stream",
          "name": "stdout",
          "text": [
            "[[0 1 2 3 4]\n",
            " [0 1 2 3 4]\n",
            " [0 1 2 3 4]\n",
            " [0 1 2 3 4]\n",
            " [0 1 2 3 4]]\n",
            "[[0 1 2 3 4]\n",
            " [0 1 2 3 4]\n",
            " [0 1 2 3 4]\n",
            " [0 1 2 3 4]\n",
            " [0 1 2 3 4]]\n"
          ]
        }
      ]
    },
    {
      "cell_type": "markdown",
      "source": [
        "38. Consider a generator function that generates 10 integers and use it to build an array"
      ],
      "metadata": {
        "id": "pDg-GCkd-KOR"
      },
      "id": "pDg-GCkd-KOR"
    },
    {
      "cell_type": "code",
      "source": [
        "import numpy as np\n",
        "\n",
        "def int_generator():\n",
        "  for i in range(10):\n",
        "    yield i\n",
        "\n",
        "# Use the generator to build an array\n",
        "array_from_generator = np.fromiter(int_generator(), dtype=int)\n",
        "\n",
        "print(array_from_generator)"
      ],
      "metadata": {
        "colab": {
          "base_uri": "https://localhost:8080/"
        },
        "id": "KYWaiJdR-Ob0",
        "outputId": "0e064486-603b-48f8-e787-322454c939a8"
      },
      "id": "KYWaiJdR-Ob0",
      "execution_count": 152,
      "outputs": [
        {
          "output_type": "stream",
          "name": "stdout",
          "text": [
            "[0 1 2 3 4 5 6 7 8 9]\n"
          ]
        }
      ]
    },
    {
      "cell_type": "markdown",
      "source": [
        "39. Create a vector of size 10 with values ranging from 0 to 1, both excluded"
      ],
      "metadata": {
        "id": "XwehoFuv-fW_"
      },
      "id": "XwehoFuv-fW_"
    },
    {
      "cell_type": "code",
      "source": [
        "vector = np.random.rand(10)\n",
        "print(vector)"
      ],
      "metadata": {
        "colab": {
          "base_uri": "https://localhost:8080/"
        },
        "id": "FW9YoBsu-jC7",
        "outputId": "62e73be6-7d4b-46db-a4b2-72473826445e"
      },
      "id": "FW9YoBsu-jC7",
      "execution_count": 153,
      "outputs": [
        {
          "output_type": "stream",
          "name": "stdout",
          "text": [
            "[0.71921636 0.70414528 0.33999691 0.24867091 0.80920483 0.83805486\n",
            " 0.4618042  0.66112954 0.43442978 0.7417836 ]\n"
          ]
        }
      ]
    },
    {
      "cell_type": "markdown",
      "source": [
        "40. Create a random vector of size 10 and sort it"
      ],
      "metadata": {
        "id": "3SqoOiBl-o2Q"
      },
      "id": "3SqoOiBl-o2Q"
    },
    {
      "cell_type": "code",
      "source": [
        "random_vector = np.random.rand(10)\n",
        "print(\"Original vector:\", random_vector)\n",
        "\n",
        "sorted_vector = np.sort(random_vector)\n",
        "print(\"Sorted vector:\", sorted_vector)"
      ],
      "metadata": {
        "colab": {
          "base_uri": "https://localhost:8080/"
        },
        "id": "WCuuctIm-sZB",
        "outputId": "274bd20f-0537-41c5-b474-1e595a429dde"
      },
      "id": "WCuuctIm-sZB",
      "execution_count": 154,
      "outputs": [
        {
          "output_type": "stream",
          "name": "stdout",
          "text": [
            "Original vector: [0.50275902 0.44537764 0.03381241 0.6894102  0.87962607 0.17506951\n",
            " 0.48568946 0.48967911 0.13963959 0.0270821 ]\n",
            "Sorted vector: [0.0270821  0.03381241 0.13963959 0.17506951 0.44537764 0.48568946\n",
            " 0.48967911 0.50275902 0.6894102  0.87962607]\n"
          ]
        }
      ]
    },
    {
      "cell_type": "markdown",
      "source": [
        "41. How to sum a small array faster than np.sum?"
      ],
      "metadata": {
        "id": "x4vvRkWo-xeQ"
      },
      "id": "x4vvRkWo-xeQ"
    },
    {
      "cell_type": "code",
      "source": [
        "import timeit\n",
        "\n",
        "small_array = np.arange(10)\n",
        "\n",
        "# Using np.sum\n",
        "numpy_sum_time = timeit.timeit(lambda: np.sum(small_array), number=100000)\n",
        "print(f\"Time taken by np.sum: {numpy_sum_time:.6f} seconds\")\n",
        "\n",
        "# Using Python's built-in sum\n",
        "python_sum_time = timeit.timeit(lambda: sum(small_array), number=100000)\n",
        "print(f\"Time taken by built-in sum: {python_sum_time:.6f} seconds\")"
      ],
      "metadata": {
        "colab": {
          "base_uri": "https://localhost:8080/"
        },
        "id": "enuPfYOX-1Ev",
        "outputId": "8bbf6ca7-9797-4742-9ec4-76105c83ef16"
      },
      "id": "enuPfYOX-1Ev",
      "execution_count": 155,
      "outputs": [
        {
          "output_type": "stream",
          "name": "stdout",
          "text": [
            "Time taken by np.sum: 0.657289 seconds\n",
            "Time taken by built-in sum: 0.522619 seconds\n"
          ]
        }
      ]
    },
    {
      "cell_type": "markdown",
      "source": [
        "42. Consider two random array A and B, check if they are equal"
      ],
      "metadata": {
        "id": "Cmw6OAP9-_Y9"
      },
      "id": "Cmw6OAP9-_Y9"
    },
    {
      "cell_type": "code",
      "metadata": {
        "colab": {
          "base_uri": "https://localhost:8080/"
        },
        "id": "2efaba00",
        "outputId": "7411a00f-1898-444b-f5fb-d3345803e639"
      },
      "source": [
        "A = np.random.rand(5)\n",
        "B = np.random.rand(5)\n",
        "\n",
        "# Check if they are equal\n",
        "are_equal = np.array_equal(A, B)\n",
        "\n",
        "print(\"Array A:\", A)\n",
        "print(\"Array B:\", B)\n",
        "print(\"Are arrays A and B equal?  ===> \", are_equal)\n",
        "\n",
        "# Create two equal arrays to demonstrate\n",
        "C = np.array([1, 2, 3])\n",
        "D = np.array([1, 2, 3])\n",
        "are_equal_cd = np.array_equal(C, D)\n",
        "print(\"\\nArray C:\", C)\n",
        "print(\"Array D:\", D)\n",
        "print(\"Are arrays C and D equal?  ===> \", are_equal_cd)"
      ],
      "id": "2efaba00",
      "execution_count": 156,
      "outputs": [
        {
          "output_type": "stream",
          "name": "stdout",
          "text": [
            "Array A: [0.43611909 0.95110261 0.4907003  0.36249185 0.82310296]\n",
            "Array B: [0.09942632 0.55210528 0.78473869 0.36855558 0.77700213]\n",
            "Are arrays A and B equal?  ===>  False\n",
            "\n",
            "Array C: [1 2 3]\n",
            "Array D: [1 2 3]\n",
            "Are arrays C and D equal?  ===>  True\n"
          ]
        }
      ]
    },
    {
      "cell_type": "markdown",
      "source": [
        "43. Make an array immutable (read-only)"
      ],
      "metadata": {
        "id": "rzOQpw_0_nQ8"
      },
      "id": "rzOQpw_0_nQ8"
    },
    {
      "cell_type": "code",
      "source": [
        "mutable_array = np.arange(10)\n",
        "print(\"Original array:\", mutable_array)\n",
        "\n",
        "# Make the array immutable\n",
        "mutable_array.flags.writeable = False\n",
        "\n",
        "# Attempting to modify the array will raise an error\n",
        "try:\n",
        "  mutable_array[0] = 100\n",
        "except ValueError as e:\n",
        "  print(\"\\nError when trying to modify immutable array:\", e)\n",
        "\n",
        "print(\"Array after attempting modification:\", mutable_array)"
      ],
      "metadata": {
        "colab": {
          "base_uri": "https://localhost:8080/"
        },
        "id": "_LFmCf11AFI2",
        "outputId": "a672f0ba-2dcd-4f1b-bd20-62671a199177"
      },
      "id": "_LFmCf11AFI2",
      "execution_count": 157,
      "outputs": [
        {
          "output_type": "stream",
          "name": "stdout",
          "text": [
            "Original array: [0 1 2 3 4 5 6 7 8 9]\n",
            "\n",
            "Error when trying to modify immutable array: assignment destination is read-only\n",
            "Array after attempting modification: [0 1 2 3 4 5 6 7 8 9]\n"
          ]
        }
      ]
    },
    {
      "cell_type": "markdown",
      "source": [
        "44. Consider a random 10x2 matrix representing cartesian coordinates, convert them to polar coordinates"
      ],
      "metadata": {
        "id": "Tx-wMBwdAWwF"
      },
      "id": "Tx-wMBwdAWwF"
    },
    {
      "cell_type": "code",
      "source": [
        "cartesian_coordinates = np.random.rand(10, 2) * 10 - 5 # Values between -5 and 5\n",
        "\n",
        "# Extract x and y coordinates\n",
        "x = cartesian_coordinates[:, 0]\n",
        "y = cartesian_coordinates[:, 1]\n",
        "\n",
        "# Convert to polar coordinates\n",
        "r = np.sqrt(x**2 + y**2)\n",
        "theta = np.arctan2(y, x) # Use arctan2 for correct angle in all quadrants\n",
        "\n",
        "# Combine r and theta into a single array\n",
        "polar_coordinates = np.stack((r, theta), axis=1)\n",
        "\n",
        "print(\"Cartesian Coordinates:\\n\", cartesian_coordinates)\n",
        "print(\"\\nPolar Coordinates (r, theta):\\n\", polar_coordinates)"
      ],
      "metadata": {
        "colab": {
          "base_uri": "https://localhost:8080/"
        },
        "id": "XZ4946DIAfxw",
        "outputId": "fa533d15-9317-4de4-e5f4-1198d0281687"
      },
      "id": "XZ4946DIAfxw",
      "execution_count": 158,
      "outputs": [
        {
          "output_type": "stream",
          "name": "stdout",
          "text": [
            "Cartesian Coordinates:\n",
            " [[ 0.13252074 -0.94869027]\n",
            " [ 4.46740538  1.37699365]\n",
            " [ 3.78886983  1.34771532]\n",
            " [ 2.5064145  -0.32743262]\n",
            " [ 0.59544839  3.01157784]\n",
            " [ 3.46478002  4.58996885]\n",
            " [-2.07877636  0.69069515]\n",
            " [ 4.74683682 -1.68955827]\n",
            " [ 0.55699213 -4.12224651]\n",
            " [-0.09148138  2.74292354]]\n",
            "\n",
            "Polar Coordinates (r, theta):\n",
            " [[ 0.95790134 -1.43200631]\n",
            " [ 4.6748072   0.29899113]\n",
            " [ 4.02142651  0.34174707]\n",
            " [ 2.52771157 -0.12990221]\n",
            " [ 3.06987945  1.37559428]\n",
            " [ 5.75087077  0.9241926 ]\n",
            " [ 2.19051842  2.82080801]\n",
            " [ 5.03855802 -0.34195098]\n",
            " [ 4.15970631 -1.43649113]\n",
            " [ 2.74444864  1.60413575]]\n"
          ]
        }
      ]
    },
    {
      "cell_type": "markdown",
      "source": [
        "45. Create random vector of size 10 and replace the maximum value by 0"
      ],
      "metadata": {
        "id": "pYYw3WS3BD2J"
      },
      "id": "pYYw3WS3BD2J"
    },
    {
      "cell_type": "code",
      "source": [
        "random_vector = np.random.rand(10)\n",
        "print(\"Original vector:\", random_vector)\n",
        "\n",
        "# Find the index of the maximum value\n",
        "max_index = np.argmax(random_vector)\n",
        "\n",
        "# Replace the maximum value with 0\n",
        "random_vector[max_index] = 0\n",
        "\n",
        "print(\"Vector with maximum value replaced by 0:\", random_vector)"
      ],
      "metadata": {
        "colab": {
          "base_uri": "https://localhost:8080/"
        },
        "id": "SIUuaJmZBGj7",
        "outputId": "4ef2542a-b82c-4c90-cdcc-ada74042c520"
      },
      "id": "SIUuaJmZBGj7",
      "execution_count": 159,
      "outputs": [
        {
          "output_type": "stream",
          "name": "stdout",
          "text": [
            "Original vector: [0.40627218 0.21415535 0.17522964 0.33502499 0.42475953 0.69792037\n",
            " 0.50525748 0.40500624 0.73593508 0.91190755]\n",
            "Vector with maximum value replaced by 0: [0.40627218 0.21415535 0.17522964 0.33502499 0.42475953 0.69792037\n",
            " 0.50525748 0.40500624 0.73593508 0.        ]\n"
          ]
        }
      ]
    },
    {
      "cell_type": "markdown",
      "source": [
        "46. Create a structured array with x and y coordinates covering the [0,1]x[0,1] area"
      ],
      "metadata": {
        "id": "i2-22-izBLbG"
      },
      "id": "i2-22-izBLbG"
    },
    {
      "cell_type": "code",
      "source": [
        "n_points = 5\n",
        "\n",
        "# Create arrays for x and y coordinates\n",
        "x_coords = np.linspace(0, 1, n_points)\n",
        "y_coords = np.linspace(0, 1, n_points)\n",
        "\n",
        "# Create a grid of coordinates\n",
        "x_grid, y_grid = np.meshgrid(x_coords, y_coords)\n",
        "\n",
        "# Define a custom dtype for the structured array\n",
        "coordinate_dtype = np.dtype([('x', float), ('y', float)])\n",
        "\n",
        "# Create the structured array\n",
        "structured_array = np.empty((n_points, n_points), dtype=coordinate_dtype)\n",
        "\n",
        "# Fill the structured array with the grid coordinates\n",
        "structured_array['x'] = x_grid\n",
        "structured_array['y'] = y_grid\n",
        "\n",
        "print(structured_array)"
      ],
      "metadata": {
        "colab": {
          "base_uri": "https://localhost:8080/"
        },
        "id": "W8w28vsNBO0q",
        "outputId": "6b186882-29a4-453e-e4dc-aa905ce526da"
      },
      "id": "W8w28vsNBO0q",
      "execution_count": 160,
      "outputs": [
        {
          "output_type": "stream",
          "name": "stdout",
          "text": [
            "[[(0.  , 0.  ) (0.25, 0.  ) (0.5 , 0.  ) (0.75, 0.  ) (1.  , 0.  )]\n",
            " [(0.  , 0.25) (0.25, 0.25) (0.5 , 0.25) (0.75, 0.25) (1.  , 0.25)]\n",
            " [(0.  , 0.5 ) (0.25, 0.5 ) (0.5 , 0.5 ) (0.75, 0.5 ) (1.  , 0.5 )]\n",
            " [(0.  , 0.75) (0.25, 0.75) (0.5 , 0.75) (0.75, 0.75) (1.  , 0.75)]\n",
            " [(0.  , 1.  ) (0.25, 1.  ) (0.5 , 1.  ) (0.75, 1.  ) (1.  , 1.  )]]\n"
          ]
        }
      ]
    },
    {
      "cell_type": "markdown",
      "source": [
        "47. Given two arrays, X and Y, construct the Cauchy matrix C (Cij =1/(xi - yj))"
      ],
      "metadata": {
        "id": "tfWWrGHEBeLv"
      },
      "id": "tfWWrGHEBeLv"
    },
    {
      "cell_type": "code",
      "source": [
        "# Create sample arrays X and Y\n",
        "X = np.arange(5)\n",
        "Y = X + 0.5 # Ensure xi != yj\n",
        "\n",
        "# Construct the Cauchy matrix\n",
        "cauchy_matrix = 1.0 / (X[:, np.newaxis] - Y)\n",
        "\n",
        "print(cauchy_matrix)"
      ],
      "metadata": {
        "colab": {
          "base_uri": "https://localhost:8080/"
        },
        "id": "IKS_bJuBBiHH",
        "outputId": "cdbd1435-7087-4232-c844-8f4ab7dca622"
      },
      "id": "IKS_bJuBBiHH",
      "execution_count": 161,
      "outputs": [
        {
          "output_type": "stream",
          "name": "stdout",
          "text": [
            "[[-2.         -0.66666667 -0.4        -0.28571429 -0.22222222]\n",
            " [ 2.         -2.         -0.66666667 -0.4        -0.28571429]\n",
            " [ 0.66666667  2.         -2.         -0.66666667 -0.4       ]\n",
            " [ 0.4         0.66666667  2.         -2.         -0.66666667]\n",
            " [ 0.28571429  0.4         0.66666667  2.         -2.        ]]\n"
          ]
        }
      ]
    },
    {
      "cell_type": "markdown",
      "source": [
        "48. Print the minimum and maximum representable value for each numpy scalar type"
      ],
      "metadata": {
        "id": "uuFN38CVB1pY"
      },
      "id": "uuFN38CVB1pY"
    },
    {
      "cell_type": "code",
      "source": [
        "# Iterate through NumPy's built-in scalar types\n",
        "for dtype in [np.bool_, np.byte, np.ubyte, np.short, np.ushort, np.intc, np.uintc, np.int_, np.uint, np.longlong, np.ulonglong,\n",
        "              np.half, np.single, np.double, np.longdouble, np.complex64, np.complex128, np.clongdouble]:\n",
        "    try:\n",
        "        if np.issubdtype(dtype, np.integer):\n",
        "            info = np.iinfo(dtype)\n",
        "            print(f\"{dtype.__name__}: Min = {info.min}, Max = {info.max}\")\n",
        "        elif np.issubdtype(dtype, np.floating):\n",
        "            info = np.finfo(dtype)\n",
        "            print(f\"{dtype.__name__}: Min = {info.min}, Max = {info.max}\")\n",
        "        elif np.issubdtype(dtype, np.complexfloating):\n",
        "             info = np.finfo(dtype)\n",
        "             print(f\"{dtype.__name__}: Min_real = {info.min}, Max_real = {info.max}, Min_imag = {info.min}, Max_imag = {info.max}\")\n",
        "        else:\n",
        "            print(f\"{dtype.__name__}: No min/max info available\")\n",
        "    except Exception as e:\n",
        "        print(f\"Could not retrieve info for {dtype.__name__}: {e}\")"
      ],
      "metadata": {
        "colab": {
          "base_uri": "https://localhost:8080/"
        },
        "id": "uxckrL2oB5SH",
        "outputId": "2524da4d-8705-48f7-c7f9-6e0366ff4259"
      },
      "id": "uxckrL2oB5SH",
      "execution_count": 162,
      "outputs": [
        {
          "output_type": "stream",
          "name": "stdout",
          "text": [
            "bool: No min/max info available\n",
            "int8: Min = -128, Max = 127\n",
            "uint8: Min = 0, Max = 255\n",
            "int16: Min = -32768, Max = 32767\n",
            "uint16: Min = 0, Max = 65535\n",
            "int32: Min = -2147483648, Max = 2147483647\n",
            "uint32: Min = 0, Max = 4294967295\n",
            "int64: Min = -9223372036854775808, Max = 9223372036854775807\n",
            "uint64: Min = 0, Max = 18446744073709551615\n",
            "longlong: Min = -9223372036854775808, Max = 9223372036854775807\n",
            "ulonglong: Min = 0, Max = 18446744073709551615\n",
            "float16: Min = -65504.0, Max = 65504.0\n",
            "float32: Min = -3.4028234663852886e+38, Max = 3.4028234663852886e+38\n",
            "float64: Min = -1.7976931348623157e+308, Max = 1.7976931348623157e+308\n",
            "longdouble: Min = -inf, Max = inf\n",
            "complex64: Min_real = -3.4028234663852886e+38, Max_real = 3.4028234663852886e+38, Min_imag = -3.4028234663852886e+38, Max_imag = 3.4028234663852886e+38\n",
            "complex128: Min_real = -1.7976931348623157e+308, Max_real = 1.7976931348623157e+308, Min_imag = -1.7976931348623157e+308, Max_imag = 1.7976931348623157e+308\n",
            "clongdouble: Min_real = -inf, Max_real = inf, Min_imag = -inf, Max_imag = inf\n"
          ]
        }
      ]
    },
    {
      "cell_type": "markdown",
      "source": [
        "49. How to print all the values of an array?"
      ],
      "metadata": {
        "id": "wR0vS482CJqM"
      },
      "id": "wR0vS482CJqM"
    },
    {
      "cell_type": "code",
      "source": [
        "# Create a large array\n",
        "large_array = np.arange(200).reshape(10, 20)\n",
        "\n",
        "# By default, NumPy might not print all elements\n",
        "print(\"Default printing:\")\n",
        "print(large_array)\n",
        "\n",
        "# Set print options to print all elements\n",
        "np.set_printoptions(threshold=np.inf)\n",
        "\n",
        "print(\"\\nPrinting with threshold=np.inf:\")\n",
        "print(large_array)"
      ],
      "metadata": {
        "colab": {
          "base_uri": "https://localhost:8080/"
        },
        "id": "s1h9BS6wCNlK",
        "outputId": "a2af0f31-bcdf-468e-e5d5-675fd993b27e"
      },
      "id": "s1h9BS6wCNlK",
      "execution_count": 163,
      "outputs": [
        {
          "output_type": "stream",
          "name": "stdout",
          "text": [
            "Default printing:\n",
            "[[  0   1   2   3   4   5   6   7   8   9  10  11  12  13  14  15  16  17\n",
            "   18  19]\n",
            " [ 20  21  22  23  24  25  26  27  28  29  30  31  32  33  34  35  36  37\n",
            "   38  39]\n",
            " [ 40  41  42  43  44  45  46  47  48  49  50  51  52  53  54  55  56  57\n",
            "   58  59]\n",
            " [ 60  61  62  63  64  65  66  67  68  69  70  71  72  73  74  75  76  77\n",
            "   78  79]\n",
            " [ 80  81  82  83  84  85  86  87  88  89  90  91  92  93  94  95  96  97\n",
            "   98  99]\n",
            " [100 101 102 103 104 105 106 107 108 109 110 111 112 113 114 115 116 117\n",
            "  118 119]\n",
            " [120 121 122 123 124 125 126 127 128 129 130 131 132 133 134 135 136 137\n",
            "  138 139]\n",
            " [140 141 142 143 144 145 146 147 148 149 150 151 152 153 154 155 156 157\n",
            "  158 159]\n",
            " [160 161 162 163 164 165 166 167 168 169 170 171 172 173 174 175 176 177\n",
            "  178 179]\n",
            " [180 181 182 183 184 185 186 187 188 189 190 191 192 193 194 195 196 197\n",
            "  198 199]]\n",
            "\n",
            "Printing with threshold=np.inf:\n",
            "[[  0   1   2   3   4   5   6   7   8   9  10  11  12  13  14  15  16  17\n",
            "   18  19]\n",
            " [ 20  21  22  23  24  25  26  27  28  29  30  31  32  33  34  35  36  37\n",
            "   38  39]\n",
            " [ 40  41  42  43  44  45  46  47  48  49  50  51  52  53  54  55  56  57\n",
            "   58  59]\n",
            " [ 60  61  62  63  64  65  66  67  68  69  70  71  72  73  74  75  76  77\n",
            "   78  79]\n",
            " [ 80  81  82  83  84  85  86  87  88  89  90  91  92  93  94  95  96  97\n",
            "   98  99]\n",
            " [100 101 102 103 104 105 106 107 108 109 110 111 112 113 114 115 116 117\n",
            "  118 119]\n",
            " [120 121 122 123 124 125 126 127 128 129 130 131 132 133 134 135 136 137\n",
            "  138 139]\n",
            " [140 141 142 143 144 145 146 147 148 149 150 151 152 153 154 155 156 157\n",
            "  158 159]\n",
            " [160 161 162 163 164 165 166 167 168 169 170 171 172 173 174 175 176 177\n",
            "  178 179]\n",
            " [180 181 182 183 184 185 186 187 188 189 190 191 192 193 194 195 196 197\n",
            "  198 199]]\n"
          ]
        }
      ]
    },
    {
      "cell_type": "markdown",
      "source": [
        "50. How to find the closest value (to a given scalar) in a vector?"
      ],
      "metadata": {
        "id": "RpBDED4aCbWZ"
      },
      "id": "RpBDED4aCbWZ"
    },
    {
      "cell_type": "code",
      "metadata": {
        "colab": {
          "base_uri": "https://localhost:8080/"
        },
        "id": "e40829aa",
        "outputId": "ea2f02b9-05a9-49f2-e0e3-4e70f6c497ab"
      },
      "source": [
        "vector = np.array([1, 5, 8, 12, 15, 20])\n",
        "scalar = 10\n",
        "\n",
        "# Calculate the absolute difference between each element and the scalar\n",
        "absolute_difference = np.abs(vector - scalar)\n",
        "\n",
        "# Find the index of the minimum absolute difference\n",
        "closest_index = np.argmin(absolute_difference)\n",
        "\n",
        "# Get the value from the original vector at the closest index\n",
        "closest_value = vector[closest_index]\n",
        "\n",
        "print(\"Vector:\", vector)\n",
        "print(\"Scalar:\", scalar)\n",
        "print(\"Closest value in the vector:\", closest_value)"
      ],
      "id": "e40829aa",
      "execution_count": 164,
      "outputs": [
        {
          "output_type": "stream",
          "name": "stdout",
          "text": [
            "Vector: [ 1  5  8 12 15 20]\n",
            "Scalar: 10\n",
            "Closest value in the vector: 8\n"
          ]
        }
      ]
    }
  ],
  "metadata": {
    "kernelspec": {
      "display_name": "base",
      "language": "python",
      "name": "python3"
    },
    "language_info": {
      "codemirror_mode": {
        "name": "ipython",
        "version": 3
      },
      "file_extension": ".py",
      "mimetype": "text/x-python",
      "name": "python",
      "nbconvert_exporter": "python",
      "pygments_lexer": "ipython3",
      "version": "3.12.7"
    },
    "colab": {
      "provenance": []
    }
  },
  "nbformat": 4,
  "nbformat_minor": 5
}
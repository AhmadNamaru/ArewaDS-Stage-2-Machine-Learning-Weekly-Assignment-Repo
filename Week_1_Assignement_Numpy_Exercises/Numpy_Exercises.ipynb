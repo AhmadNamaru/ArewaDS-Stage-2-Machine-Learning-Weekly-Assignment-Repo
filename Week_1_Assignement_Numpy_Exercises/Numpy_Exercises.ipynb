{
 "cells": [
  {
   "cell_type": "markdown",
   "id": "da256c4c",
   "metadata": {},
   "source": [
    "1. Import the numpy package under the name np"
   ]
  },
  {
   "cell_type": "code",
   "execution_count": 78,
   "id": "19246dfa",
   "metadata": {},
   "outputs": [],
   "source": [
    "import numpy as np"
   ]
  },
  {
   "cell_type": "markdown",
   "id": "ad22a599",
   "metadata": {},
   "source": [
    "2. Print the numpy version and the configuration"
   ]
  },
  {
   "cell_type": "code",
   "execution_count": null,
   "id": "79394b35",
   "metadata": {},
   "outputs": [],
   "source": [
    "print(np.__version__)\n",
    "print(np.show_config())"
   ]
  },
  {
   "cell_type": "markdown",
   "id": "0b99cf86",
   "metadata": {},
   "source": [
    "3. Create a null vector of size 10"
   ]
  },
  {
   "cell_type": "code",
   "execution_count": null,
   "id": "dc95f26e",
   "metadata": {},
   "outputs": [],
   "source": [
    "null_vector = np.zeros(10)\n",
    "print(null_vector)"
   ]
  },
  {
   "cell_type": "markdown",
   "id": "07998909",
   "metadata": {},
   "source": [
    "4. How to find the memory size of any array"
   ]
  },
  {
   "cell_type": "code",
   "execution_count": null,
   "id": "64459c49",
   "metadata": {},
   "outputs": [],
   "source": [
    "print(null_vector.nbytes)"
   ]
  },
  {
   "cell_type": "markdown",
   "id": "23a792da",
   "metadata": {},
   "source": [
    "5. How to get the documentation of the numpy add function from the command line?"
   ]
  },
  {
   "cell_type": "code",
   "execution_count": null,
   "id": "c263898f",
   "metadata": {
    "vscode": {
     "languageId": "markdown"
    }
   },
   "outputs": [],
   "source": [
    "help(np.add)\n",
    "\n",
    "# Or you can use:\n",
    "np.info(np.add)"
   ]
  },
  {
   "cell_type": "markdown",
   "id": "6beb77e0",
   "metadata": {},
   "source": [
    "6. Create a null vector of size 10 but the fifth value which is 1"
   ]
  },
  {
   "cell_type": "code",
   "execution_count": null,
   "id": "066293f0",
   "metadata": {
    "vscode": {
     "languageId": "markdown"
    }
   },
   "outputs": [],
   "source": [
    "null_vector1 = np.zeros(10)\n",
    "null_vector1[4] = 1\n",
    "print(null_vector1)"
   ]
  },
  {
   "cell_type": "markdown",
   "id": "38737c07",
   "metadata": {},
   "source": [
    "7. Create a vector with values ranging from 10 to 49"
   ]
  },
  {
   "cell_type": "code",
   "execution_count": null,
   "id": "6fc56380",
   "metadata": {
    "vscode": {
     "languageId": "markdown"
    }
   },
   "outputs": [],
   "source": [
    "num_vec = np.arange(10,49)\n",
    "print(num_vec)"
   ]
  },
  {
   "cell_type": "markdown",
   "id": "799e88d4",
   "metadata": {},
   "source": [
    "8. Reverse a vector (first element becomes last) "
   ]
  },
  {
   "cell_type": "code",
   "execution_count": null,
   "id": "73b53659",
   "metadata": {
    "vscode": {
     "languageId": "markdown"
    }
   },
   "outputs": [],
   "source": [
    "reversed_vec = num_vec[::-1]\n",
    "print(reversed_vec)"
   ]
  },
  {
   "cell_type": "markdown",
   "id": "b7592586",
   "metadata": {},
   "source": [
    "9. Create a 3x3 matrix with values ranging from 0 to 8"
   ]
  },
  {
   "cell_type": "code",
   "execution_count": null,
   "id": "f8051c9c",
   "metadata": {
    "vscode": {
     "languageId": "markdown"
    }
   },
   "outputs": [],
   "source": [
    "np.arange(9).reshape(3, 3)"
   ]
  },
  {
   "cell_type": "markdown",
   "id": "57aee8ac",
   "metadata": {},
   "source": [
    "10. Find indices of non-zero elements from [1,2,0,0,4,0]"
   ]
  },
  {
   "cell_type": "code",
   "execution_count": null,
   "id": "72239583",
   "metadata": {},
   "outputs": [],
   "source": [
    "arr = np.array([1, 2, 0, 0, 4, 0])\n",
    "indices = np.nonzero(arr)\n",
    "print(indices)"
   ]
  },
  {
   "cell_type": "markdown",
   "id": "2d8fd3bb",
   "metadata": {},
   "source": [
    "11. Create a 3x3 identity matrix"
   ]
  },
  {
   "cell_type": "code",
   "execution_count": null,
   "id": "8c717fe7",
   "metadata": {},
   "outputs": [],
   "source": [
    "identity_matrix = np.eye(3)\n",
    "print(identity_matrix)"
   ]
  },
  {
   "cell_type": "markdown",
   "id": "790cf9fb",
   "metadata": {},
   "source": [
    "12. Create a 3x3x3 array with random values"
   ]
  },
  {
   "cell_type": "code",
   "execution_count": null,
   "id": "4da71e14",
   "metadata": {},
   "outputs": [],
   "source": [
    "np.random.rand(3,3,3)"
   ]
  },
  {
   "cell_type": "markdown",
   "id": "3a4fde52",
   "metadata": {},
   "source": [
    "13. Create a 10x10 array with random values and find the minimum and maximum values"
   ]
  },
  {
   "cell_type": "code",
   "execution_count": null,
   "id": "d7f4964b",
   "metadata": {},
   "outputs": [],
   "source": [
    "rand = np.random.rand(10,10)\n",
    "print(rand)\n",
    "print(\"The Minimum is: \", rand.min())\n",
    "print(\"The Maximum is: \", rand.max())"
   ]
  },
  {
   "cell_type": "markdown",
   "id": "8d36e18f",
   "metadata": {},
   "source": [
    "14. Create a random vector of size 30 and find the mean value"
   ]
  },
  {
   "cell_type": "code",
   "execution_count": null,
   "id": "48ce9802",
   "metadata": {},
   "outputs": [],
   "source": [
    "print(np.random.rand(30))\n",
    "np.random.rand(30).mean()"
   ]
  },
  {
   "cell_type": "markdown",
   "id": "7de32b3e",
   "metadata": {},
   "source": [
    "15. Create a 2d array with 1 on the border and 0 inside"
   ]
  },
  {
   "cell_type": "code",
   "execution_count": null,
   "id": "07e8e2c2",
   "metadata": {},
   "outputs": [],
   "source": [
    "border_array = np.ones((5, 5), dtype=int)\n",
    "border_array[1:-1, 1:-1] = 0\n",
    "print(border_array)"
   ]
  },
  {
   "cell_type": "markdown",
   "id": "fb1b0319",
   "metadata": {},
   "source": [
    "16. How to add a border (filled with 0's) around an existing array?"
   ]
  },
  {
   "cell_type": "code",
   "execution_count": null,
   "id": "840ca4a6",
   "metadata": {},
   "outputs": [],
   "source": [
    "padded_array = np.pad(arr, pad_width=1, mode='constant', constant_values=0)\n",
    "print(padded_array)"
   ]
  },
  {
   "cell_type": "markdown",
   "id": "13efdb2b",
   "metadata": {},
   "source": [
    "17. What is the result of the following expression?\n",
    "\n",
    "0 * np.nan<br>\n",
    "np.nan == np.nan<br>\n",
    "np.inf > np.nan<br>\n",
    "np.nan - np.nan<br>\n",
    "np.nan in set([np.nan])<br>\n",
    "0.3 == 3 * 0.1"
   ]
  },
  {
   "cell_type": "code",
   "execution_count": null,
   "id": "94423d4d",
   "metadata": {},
   "outputs": [],
   "source": [
    "print(0 * np.nan)             \n",
    "print(np.nan == np.nan)       \n",
    "print(np.inf > np.nan)        \n",
    "print(np.nan - np.nan)        \n",
    "print(np.nan in set([np.nan]))\n",
    "print(0.3 == 3 * 0.1)"
   ]
  },
  {
   "cell_type": "markdown",
   "id": "82af9057",
   "metadata": {},
   "source": [
    "18. Create a 5x5 matrix with values 1,2,3,4 just below the diagonal"
   ]
  },
  {
   "cell_type": "code",
   "execution_count": null,
   "id": "13da6d5b",
   "metadata": {},
   "outputs": [],
   "source": [
    "matrix = np.diag([1, 2, 3, 4], k=-1)\n",
    "print(matrix)"
   ]
  },
  {
   "cell_type": "markdown",
   "id": "5b0ef093",
   "metadata": {},
   "source": [
    "19. Create a 8x8 matrix and fill it with a checkerboard pattern"
   ]
  },
  {
   "cell_type": "code",
   "execution_count": null,
   "id": "cda07578",
   "metadata": {},
   "outputs": [],
   "source": [
    "checkerboard = np.zeros((8, 8), dtype=int)\n",
    "checkerboard[1::2, ::2] = 1\n",
    "checkerboard[::2, 1::2] = 1\n",
    "print(checkerboard)"
   ]
  },
  {
   "cell_type": "markdown",
   "id": "7c21ed62",
   "metadata": {},
   "source": [
    "20. Consider a (6,7,8) shape array, what is the index (x,y,z) of the 100th element?"
   ]
  },
  {
   "cell_type": "code",
   "execution_count": null,
   "id": "99667568",
   "metadata": {},
   "outputs": [],
   "source": [
    "np.unravel_index(100, (6, 7, 8))"
   ]
  },
  {
   "cell_type": "markdown",
   "id": "c525af2e",
   "metadata": {},
   "source": [
    "21. Create a checkerboard 8x8 matrix using the tile function"
   ]
  },
  {
   "cell_type": "code",
   "execution_count": 79,
   "id": "af768b6d",
   "metadata": {},
   "outputs": [
    {
     "name": "stdout",
     "output_type": "stream",
     "text": [
      "[[0 1 0 1 0 1 0 1]\n",
      " [1 0 1 0 1 0 1 0]\n",
      " [0 1 0 1 0 1 0 1]\n",
      " [1 0 1 0 1 0 1 0]\n",
      " [0 1 0 1 0 1 0 1]\n",
      " [1 0 1 0 1 0 1 0]\n",
      " [0 1 0 1 0 1 0 1]\n",
      " [1 0 1 0 1 0 1 0]]\n"
     ]
    }
   ],
   "source": [
    "checkerboard_tile = np.tile([[0, 1], [1, 0]], (4, 4))\n",
    "print(checkerboard_tile)"
   ]
  },
  {
   "cell_type": "code",
   "execution_count": null,
   "id": "7d43052d",
   "metadata": {},
   "outputs": [],
   "source": [
    "checkerboard_tile = "
   ]
  }
 ],
 "metadata": {
  "kernelspec": {
   "display_name": "base",
   "language": "python",
   "name": "python3"
  },
  "language_info": {
   "codemirror_mode": {
    "name": "ipython",
    "version": 3
   },
   "file_extension": ".py",
   "mimetype": "text/x-python",
   "name": "python",
   "nbconvert_exporter": "python",
   "pygments_lexer": "ipython3",
   "version": "3.12.7"
  }
 },
 "nbformat": 4,
 "nbformat_minor": 5
}
